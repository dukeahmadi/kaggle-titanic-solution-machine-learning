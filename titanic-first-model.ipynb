{
 "cells": [
  {
   "cell_type": "code",
   "execution_count": 1,
   "id": "96f93f08",
   "metadata": {
    "_cell_guid": "0d17469e-b7d0-4ca8-9f31-6396c73ebeb9",
    "_uuid": "c54c4980-2d6b-4da7-8754-a2ca2ddc6d6d",
    "collapsed": false,
    "execution": {
     "iopub.execute_input": "2024-07-18T13:11:58.318482Z",
     "iopub.status.busy": "2024-07-18T13:11:58.318077Z",
     "iopub.status.idle": "2024-07-18T13:11:59.430611Z",
     "shell.execute_reply": "2024-07-18T13:11:59.429368Z"
    },
    "jupyter": {
     "outputs_hidden": false
    },
    "papermill": {
     "duration": 1.128507,
     "end_time": "2024-07-18T13:11:59.433746",
     "exception": false,
     "start_time": "2024-07-18T13:11:58.305239",
     "status": "completed"
    },
    "tags": []
   },
   "outputs": [
    {
     "name": "stdout",
     "output_type": "stream",
     "text": [
      "/kaggle/input/testdatatitanic/test.csv\n",
      "/kaggle/input/titanic-train/train.csv\n"
     ]
    }
   ],
   "source": [
    "\n",
    "\n",
    "import numpy as np\n",
    "import pandas as pd\n",
    "\n",
    "\n",
    "\n",
    "import os  \n",
    "for dirname , _, filenames in os.walk('/kaggle/input'):\n",
    "    for filename in filenames:\n",
    "        print(os.path.join(dirname ,filename))"
   ]
  },
  {
   "cell_type": "code",
   "execution_count": 2,
   "id": "6caa7e48",
   "metadata": {
    "execution": {
     "iopub.execute_input": "2024-07-18T13:11:59.459626Z",
     "iopub.status.busy": "2024-07-18T13:11:59.459082Z",
     "iopub.status.idle": "2024-07-18T13:11:59.487326Z",
     "shell.execute_reply": "2024-07-18T13:11:59.486038Z"
    },
    "papermill": {
     "duration": 0.044919,
     "end_time": "2024-07-18T13:11:59.490331",
     "exception": false,
     "start_time": "2024-07-18T13:11:59.445412",
     "status": "completed"
    },
    "tags": []
   },
   "outputs": [
    {
     "data": {
      "text/plain": [
       "Index(['PassengerId', 'Survived', 'Pclass', 'Name', 'Sex', 'Age', 'SibSp',\n",
       "       'Parch', 'Ticket', 'Fare', 'Cabin', 'Embarked'],\n",
       "      dtype='object')"
      ]
     },
     "execution_count": 2,
     "metadata": {},
     "output_type": "execute_result"
    }
   ],
   "source": [
    "\n",
    "train_data = pd.read_csv('/kaggle/input/titanic-train/train.csv')\n",
    "train_data.columns\n"
   ]
  },
  {
   "cell_type": "code",
   "execution_count": 3,
   "id": "c29f1c69",
   "metadata": {
    "execution": {
     "iopub.execute_input": "2024-07-18T13:11:59.515151Z",
     "iopub.status.busy": "2024-07-18T13:11:59.514732Z",
     "iopub.status.idle": "2024-07-18T13:11:59.586242Z",
     "shell.execute_reply": "2024-07-18T13:11:59.584960Z"
    },
    "papermill": {
     "duration": 0.086897,
     "end_time": "2024-07-18T13:11:59.588891",
     "exception": false,
     "start_time": "2024-07-18T13:11:59.501994",
     "status": "completed"
    },
    "tags": []
   },
   "outputs": [
    {
     "data": {
      "text/html": [
       "<div>\n",
       "<style scoped>\n",
       "    .dataframe tbody tr th:only-of-type {\n",
       "        vertical-align: middle;\n",
       "    }\n",
       "\n",
       "    .dataframe tbody tr th {\n",
       "        vertical-align: top;\n",
       "    }\n",
       "\n",
       "    .dataframe thead th {\n",
       "        text-align: right;\n",
       "    }\n",
       "</style>\n",
       "<table border=\"1\" class=\"dataframe\">\n",
       "  <thead>\n",
       "    <tr style=\"text-align: right;\">\n",
       "      <th></th>\n",
       "      <th>Survived</th>\n",
       "    </tr>\n",
       "    <tr>\n",
       "      <th>FamilySize</th>\n",
       "      <th></th>\n",
       "    </tr>\n",
       "  </thead>\n",
       "  <tbody>\n",
       "    <tr>\n",
       "      <th>4</th>\n",
       "      <td>0.724138</td>\n",
       "    </tr>\n",
       "    <tr>\n",
       "      <th>3</th>\n",
       "      <td>0.578431</td>\n",
       "    </tr>\n",
       "    <tr>\n",
       "      <th>2</th>\n",
       "      <td>0.552795</td>\n",
       "    </tr>\n",
       "    <tr>\n",
       "      <th>7</th>\n",
       "      <td>0.333333</td>\n",
       "    </tr>\n",
       "    <tr>\n",
       "      <th>1</th>\n",
       "      <td>0.303538</td>\n",
       "    </tr>\n",
       "    <tr>\n",
       "      <th>5</th>\n",
       "      <td>0.200000</td>\n",
       "    </tr>\n",
       "    <tr>\n",
       "      <th>6</th>\n",
       "      <td>0.136364</td>\n",
       "    </tr>\n",
       "    <tr>\n",
       "      <th>8</th>\n",
       "      <td>0.000000</td>\n",
       "    </tr>\n",
       "    <tr>\n",
       "      <th>11</th>\n",
       "      <td>0.000000</td>\n",
       "    </tr>\n",
       "  </tbody>\n",
       "</table>\n",
       "</div>"
      ],
      "text/plain": [
       "            Survived\n",
       "FamilySize          \n",
       "4           0.724138\n",
       "3           0.578431\n",
       "2           0.552795\n",
       "7           0.333333\n",
       "1           0.303538\n",
       "5           0.200000\n",
       "6           0.136364\n",
       "8           0.000000\n",
       "11          0.000000"
      ]
     },
     "execution_count": 3,
     "metadata": {},
     "output_type": "execute_result"
    }
   ],
   "source": [
    "def get_family_size(Parch, SibSp):\n",
    "    return Parch + SibSp + 1\n",
    "\n",
    "train_data['FamilySize'] = train_data.apply(lambda X: get_family_size(X.Parch, X.SibSp), axis = 1)\n",
    "\n",
    "train_data[[\"FamilySize\", \"Survived\"]].groupby(['FamilySize']).mean().sort_values(by='Survived', ascending=False)"
   ]
  },
  {
   "cell_type": "code",
   "execution_count": 4,
   "id": "58e652b1",
   "metadata": {
    "execution": {
     "iopub.execute_input": "2024-07-18T13:11:59.613983Z",
     "iopub.status.busy": "2024-07-18T13:11:59.613578Z",
     "iopub.status.idle": "2024-07-18T13:11:59.659138Z",
     "shell.execute_reply": "2024-07-18T13:11:59.657835Z"
    },
    "papermill": {
     "duration": 0.061973,
     "end_time": "2024-07-18T13:11:59.662584",
     "exception": false,
     "start_time": "2024-07-18T13:11:59.600611",
     "status": "completed"
    },
    "tags": []
   },
   "outputs": [
    {
     "name": "stdout",
     "output_type": "stream",
     "text": [
      "     PassengerId  Survived  Pclass  \\\n",
      "0              1         0       3   \n",
      "1              2         1       1   \n",
      "2              3         1       3   \n",
      "3              4         1       1   \n",
      "4              5         0       3   \n",
      "..           ...       ...     ...   \n",
      "886          887         0       2   \n",
      "887          888         1       1   \n",
      "888          889         0       3   \n",
      "889          890         1       1   \n",
      "890          891         0       3   \n",
      "\n",
      "                                                  Name     Sex   Age  \\\n",
      "0                              Braund, Mr. Owen Harris    male  22.0   \n",
      "1    Cumings, Mrs. John Bradley (Florence Briggs Th...  female  38.0   \n",
      "2                               Heikkinen, Miss. Laina  female  26.0   \n",
      "3         Futrelle, Mrs. Jacques Heath (Lily May Peel)  female  35.0   \n",
      "4                             Allen, Mr. William Henry    male  35.0   \n",
      "..                                                 ...     ...   ...   \n",
      "886                              Montvila, Rev. Juozas    male  27.0   \n",
      "887                       Graham, Miss. Margaret Edith  female  19.0   \n",
      "888           Johnston, Miss. Catherine Helen \"Carrie\"  female   NaN   \n",
      "889                              Behr, Mr. Karl Howell    male  26.0   \n",
      "890                                Dooley, Mr. Patrick    male  32.0   \n",
      "\n",
      "               Ticket     Fare Cabin Embarked FamilyType  \n",
      "0           A/5 21171   7.2500   NaN        S      small  \n",
      "1            PC 17599  71.2833   C85        C      small  \n",
      "2    STON/O2. 3101282   7.9250   NaN        S      alone  \n",
      "3              113803  53.1000  C123        S      small  \n",
      "4              373450   8.0500   NaN        S      alone  \n",
      "..                ...      ...   ...      ...        ...  \n",
      "886            211536  13.0000   NaN        S      alone  \n",
      "887            112053  30.0000   B42        S      alone  \n",
      "888        W./C. 6607  23.4500   NaN        S      small  \n",
      "889            111369  30.0000  C148        C      alone  \n",
      "890            370376   7.7500   NaN        Q      alone  \n",
      "\n",
      "[891 rows x 11 columns]\n"
     ]
    }
   ],
   "source": [
    "def get_family_type(var):\n",
    "    if var == 1:\n",
    "        return 'alone'\n",
    "    elif var<=4:\n",
    "        return 'small'\n",
    "    else:\n",
    "        return 'big'\n",
    "    \n",
    "train_data['FamilyType'] = train_data.apply(lambda X: get_family_type(X.FamilySize), axis = 1)\n",
    "\n",
    "train_data[[\"FamilyType\", \"Survived\"]].groupby(['FamilyType']).mean().sort_values(by='Survived', ascending=False)\n",
    "  \n",
    "train_data.drop(['FamilySize', 'Parch', 'SibSp'], axis = 1, inplace=True)    \n",
    "print(train_data)"
   ]
  },
  {
   "cell_type": "code",
   "execution_count": 5,
   "id": "eb49cfd7",
   "metadata": {
    "execution": {
     "iopub.execute_input": "2024-07-18T13:11:59.687908Z",
     "iopub.status.busy": "2024-07-18T13:11:59.687460Z",
     "iopub.status.idle": "2024-07-18T13:11:59.692434Z",
     "shell.execute_reply": "2024-07-18T13:11:59.691313Z"
    },
    "papermill": {
     "duration": 0.020537,
     "end_time": "2024-07-18T13:11:59.695111",
     "exception": false,
     "start_time": "2024-07-18T13:11:59.674574",
     "status": "completed"
    },
    "tags": []
   },
   "outputs": [],
   "source": [
    "#pd.unique(train_data['Name'])"
   ]
  },
  {
   "cell_type": "code",
   "execution_count": 6,
   "id": "f1a52ef2",
   "metadata": {
    "execution": {
     "iopub.execute_input": "2024-07-18T13:11:59.719512Z",
     "iopub.status.busy": "2024-07-18T13:11:59.719124Z",
     "iopub.status.idle": "2024-07-18T13:11:59.733700Z",
     "shell.execute_reply": "2024-07-18T13:11:59.732077Z"
    },
    "papermill": {
     "duration": 0.029683,
     "end_time": "2024-07-18T13:11:59.736280",
     "exception": false,
     "start_time": "2024-07-18T13:11:59.706597",
     "status": "completed"
    },
    "tags": []
   },
   "outputs": [],
   "source": [
    "train_data['tiket_2letter'] = train_data.Ticket.apply(lambda X: X[:2])\n",
    "\n",
    "train_data['tiket_len'] = train_data.Ticket.apply(lambda X: len(X)) \n",
    "\n",
    "train_data['cabin_num'] = train_data.Ticket.apply(lambda X: len(X.split()))\n",
    "\n",
    "train_data['cabin_1letter'] = train_data.Ticket.apply(lambda X: X[:1])"
   ]
  },
  {
   "cell_type": "code",
   "execution_count": 7,
   "id": "8c6ca43b",
   "metadata": {
    "execution": {
     "iopub.execute_input": "2024-07-18T13:11:59.762017Z",
     "iopub.status.busy": "2024-07-18T13:11:59.761589Z",
     "iopub.status.idle": "2024-07-18T13:11:59.779554Z",
     "shell.execute_reply": "2024-07-18T13:11:59.778406Z"
    },
    "papermill": {
     "duration": 0.034767,
     "end_time": "2024-07-18T13:11:59.783486",
     "exception": false,
     "start_time": "2024-07-18T13:11:59.748719",
     "status": "completed"
    },
    "tags": []
   },
   "outputs": [
    {
     "name": "stdout",
     "output_type": "stream",
     "text": [
      "     PassengerId  Survived  Pclass  \\\n",
      "0              1         0       3   \n",
      "1              2         1       1   \n",
      "2              3         1       3   \n",
      "3              4         1       1   \n",
      "4              5         0       3   \n",
      "..           ...       ...     ...   \n",
      "886          887         0       2   \n",
      "887          888         1       1   \n",
      "888          889         0       3   \n",
      "889          890         1       1   \n",
      "890          891         0       3   \n",
      "\n",
      "                                                  Name     Sex   Age  \\\n",
      "0                              Braund, Mr. Owen Harris    male  22.0   \n",
      "1    Cumings, Mrs. John Bradley (Florence Briggs Th...  female  38.0   \n",
      "2                               Heikkinen, Miss. Laina  female  26.0   \n",
      "3         Futrelle, Mrs. Jacques Heath (Lily May Peel)  female  35.0   \n",
      "4                             Allen, Mr. William Henry    male  35.0   \n",
      "..                                                 ...     ...   ...   \n",
      "886                              Montvila, Rev. Juozas    male  27.0   \n",
      "887                       Graham, Miss. Margaret Edith  female  19.0   \n",
      "888           Johnston, Miss. Catherine Helen \"Carrie\"  female   NaN   \n",
      "889                              Behr, Mr. Karl Howell    male  26.0   \n",
      "890                                Dooley, Mr. Patrick    male  32.0   \n",
      "\n",
      "               Ticket     Fare Cabin Embarked FamilyType tiket_2letter  \\\n",
      "0           A/5 21171   7.2500   NaN        S      small            A/   \n",
      "1            PC 17599  71.2833   C85        C      small            PC   \n",
      "2    STON/O2. 3101282   7.9250   NaN        S      alone            ST   \n",
      "3              113803  53.1000  C123        S      small            11   \n",
      "4              373450   8.0500   NaN        S      alone            37   \n",
      "..                ...      ...   ...      ...        ...           ...   \n",
      "886            211536  13.0000   NaN        S      alone            21   \n",
      "887            112053  30.0000   B42        S      alone            11   \n",
      "888        W./C. 6607  23.4500   NaN        S      small            W.   \n",
      "889            111369  30.0000  C148        C      alone            11   \n",
      "890            370376   7.7500   NaN        Q      alone            37   \n",
      "\n",
      "     tiket_len  cabin_num cabin_1letter Title  \n",
      "0            9          2             A    Mr  \n",
      "1            8          2             P   Mrs  \n",
      "2           16          2             S  Miss  \n",
      "3            6          1             1   Mrs  \n",
      "4            6          1             3    Mr  \n",
      "..         ...        ...           ...   ...  \n",
      "886          6          1             2   Rev  \n",
      "887          6          1             1  Miss  \n",
      "888         10          2             W  Miss  \n",
      "889          6          1             1    Mr  \n",
      "890          6          1             3    Mr  \n",
      "\n",
      "[891 rows x 16 columns]\n"
     ]
    }
   ],
   "source": [
    "train_data['Title'] = train_data['Name'].apply(lambda X: X.split(',')[1].split('.')[0].strip())\n",
    "print (train_data)"
   ]
  },
  {
   "cell_type": "code",
   "execution_count": 8,
   "id": "9ac54f12",
   "metadata": {
    "execution": {
     "iopub.execute_input": "2024-07-18T13:11:59.808673Z",
     "iopub.status.busy": "2024-07-18T13:11:59.808255Z",
     "iopub.status.idle": "2024-07-18T13:11:59.822131Z",
     "shell.execute_reply": "2024-07-18T13:11:59.820863Z"
    },
    "papermill": {
     "duration": 0.02944,
     "end_time": "2024-07-18T13:11:59.824586",
     "exception": false,
     "start_time": "2024-07-18T13:11:59.795146",
     "status": "completed"
    },
    "tags": []
   },
   "outputs": [
    {
     "name": "stdout",
     "output_type": "stream",
     "text": [
      "     Pclass     Fare Embarked Title FamilyType  tiket_len tiket_2letter\n",
      "0         3   7.2500        S    Mr      small          9            A/\n",
      "1         1  71.2833        C   Mrs      small          8            PC\n",
      "2         3   7.9250        S  Miss      alone         16            ST\n",
      "3         1  53.1000        S   Mrs      small          6            11\n",
      "4         3   8.0500        S    Mr      alone          6            37\n",
      "..      ...      ...      ...   ...        ...        ...           ...\n",
      "886       2  13.0000        S   Rev      alone          6            21\n",
      "887       1  30.0000        S  Miss      alone          6            11\n",
      "888       3  23.4500        S  Miss      small         10            W.\n",
      "889       1  30.0000        C    Mr      alone          6            11\n",
      "890       3   7.7500        Q    Mr      alone          6            37\n",
      "\n",
      "[891 rows x 7 columns]\n"
     ]
    }
   ],
   "source": [
    "#define X features and y\n",
    "\n",
    "y = train_data['Survived']\n",
    "\n",
    "features = ['Pclass','Fare','Embarked','Title','FamilyType','tiket_len','tiket_2letter']\n",
    "X = train_data[features] \n",
    "\n",
    "print (X)\n"
   ]
  },
  {
   "cell_type": "code",
   "execution_count": 9,
   "id": "eabdad3c",
   "metadata": {
    "execution": {
     "iopub.execute_input": "2024-07-18T13:11:59.851302Z",
     "iopub.status.busy": "2024-07-18T13:11:59.850899Z",
     "iopub.status.idle": "2024-07-18T13:11:59.862156Z",
     "shell.execute_reply": "2024-07-18T13:11:59.860746Z"
    },
    "papermill": {
     "duration": 0.027622,
     "end_time": "2024-07-18T13:11:59.864750",
     "exception": false,
     "start_time": "2024-07-18T13:11:59.837128",
     "status": "completed"
    },
    "tags": []
   },
   "outputs": [
    {
     "name": "stdout",
     "output_type": "stream",
     "text": [
      "Pclass           0\n",
      "Fare             0\n",
      "Embarked         2\n",
      "Title            0\n",
      "FamilyType       0\n",
      "tiket_len        0\n",
      "tiket_2letter    0\n",
      "dtype: int64\n",
      "Pclass           0\n",
      "Fare             0\n",
      "Embarked         2\n",
      "Title            0\n",
      "FamilyType       0\n",
      "tiket_len        0\n",
      "tiket_2letter    0\n",
      "dtype: int64\n"
     ]
    }
   ],
   "source": [
    "#check is there a missing value or not\n",
    "missing_val_count_by_cols = (X.isnull().sum())\n",
    "print(missing_val_count_by_cols)\n",
    "missing_val_count_by_cols_test = (X.isnull().sum())\n",
    "print(missing_val_count_by_cols_test)\n"
   ]
  },
  {
   "cell_type": "code",
   "execution_count": 10,
   "id": "b49d66db",
   "metadata": {
    "execution": {
     "iopub.execute_input": "2024-07-18T13:11:59.892016Z",
     "iopub.status.busy": "2024-07-18T13:11:59.890922Z",
     "iopub.status.idle": "2024-07-18T13:11:59.904003Z",
     "shell.execute_reply": "2024-07-18T13:11:59.902860Z"
    },
    "papermill": {
     "duration": 0.030777,
     "end_time": "2024-07-18T13:11:59.907937",
     "exception": false,
     "start_time": "2024-07-18T13:11:59.877160",
     "status": "completed"
    },
    "tags": []
   },
   "outputs": [
    {
     "name": "stdout",
     "output_type": "stream",
     "text": [
      "     Pclass     Fare Embarked Title FamilyType  tiket_len tiket_2letter\n",
      "0         3   7.2500        S    Mr      small          9            A/\n",
      "1         1  71.2833        C   Mrs      small          8            PC\n",
      "2         3   7.9250        S  Miss      alone         16            ST\n",
      "3         1  53.1000        S   Mrs      small          6            11\n",
      "4         3   8.0500        S    Mr      alone          6            37\n",
      "..      ...      ...      ...   ...        ...        ...           ...\n",
      "886       2  13.0000        S   Rev      alone          6            21\n",
      "887       1  30.0000        S  Miss      alone          6            11\n",
      "888       3  23.4500        S  Miss      small         10            W.\n",
      "889       1  30.0000        C    Mr      alone          6            11\n",
      "890       3   7.7500        Q    Mr      alone          6            37\n",
      "\n",
      "[891 rows x 7 columns]\n"
     ]
    },
    {
     "name": "stderr",
     "output_type": "stream",
     "text": [
      "/tmp/ipykernel_18/3114026658.py:3: SettingWithCopyWarning: \n",
      "A value is trying to be set on a copy of a slice from a DataFrame.\n",
      "Try using .loc[row_indexer,col_indexer] = value instead\n",
      "\n",
      "See the caveats in the documentation: https://pandas.pydata.org/pandas-docs/stable/user_guide/indexing.html#returning-a-view-versus-a-copy\n",
      "  X['Embarked']= X['Embarked'].fillna(X['Embarked'].value_counts().index[0])\n"
     ]
    }
   ],
   "source": [
    "#fill every null values\n",
    "#X['Age'] = X['Age'].fillna(X['Age'].median())\n",
    "X['Embarked']= X['Embarked'].fillna(X['Embarked'].value_counts().index[0])\n",
    "print(X)"
   ]
  },
  {
   "cell_type": "code",
   "execution_count": 11,
   "id": "568333e7",
   "metadata": {
    "execution": {
     "iopub.execute_input": "2024-07-18T13:11:59.935086Z",
     "iopub.status.busy": "2024-07-18T13:11:59.934009Z",
     "iopub.status.idle": "2024-07-18T13:12:01.363861Z",
     "shell.execute_reply": "2024-07-18T13:12:01.362284Z"
    },
    "papermill": {
     "duration": 1.446355,
     "end_time": "2024-07-18T13:12:01.366905",
     "exception": false,
     "start_time": "2024-07-18T13:11:59.920550",
     "status": "completed"
    },
    "tags": []
   },
   "outputs": [
    {
     "name": "stdout",
     "output_type": "stream",
     "text": [
      "     Pclass     Fare  Embarked  Title  FamilyType  tiket_len  tiket_2letter\n",
      "0         3   7.2500         2     11           2          9             37\n",
      "1         1  71.2833         0     12           2          8             46\n",
      "2         3   7.9250         2      8           0         16             51\n",
      "3         1  53.1000         2     12           2          6              0\n",
      "4         3   8.0500         2     11           0          6             23\n",
      "..      ...      ...       ...    ...         ...        ...            ...\n",
      "886       2  13.0000         2     14           0          6              8\n",
      "887       1  30.0000         2      8           0          6              0\n",
      "888       3  23.4500         2      8           2         10             53\n",
      "889       1  30.0000         0     11           0          6              0\n",
      "890       3   7.7500         1     11           0          6             23\n",
      "\n",
      "[891 rows x 7 columns]\n"
     ]
    },
    {
     "name": "stderr",
     "output_type": "stream",
     "text": [
      "/tmp/ipykernel_18/4133095977.py:6: SettingWithCopyWarning: \n",
      "A value is trying to be set on a copy of a slice from a DataFrame.\n",
      "Try using .loc[row_indexer,col_indexer] = value instead\n",
      "\n",
      "See the caveats in the documentation: https://pandas.pydata.org/pandas-docs/stable/user_guide/indexing.html#returning-a-view-versus-a-copy\n",
      "  X['Embarked'] = LE.fit_transform(X['Embarked'])\n",
      "/tmp/ipykernel_18/4133095977.py:7: SettingWithCopyWarning: \n",
      "A value is trying to be set on a copy of a slice from a DataFrame.\n",
      "Try using .loc[row_indexer,col_indexer] = value instead\n",
      "\n",
      "See the caveats in the documentation: https://pandas.pydata.org/pandas-docs/stable/user_guide/indexing.html#returning-a-view-versus-a-copy\n",
      "  X['FamilyType'] = LE.fit_transform(X['FamilyType'])\n",
      "/tmp/ipykernel_18/4133095977.py:8: SettingWithCopyWarning: \n",
      "A value is trying to be set on a copy of a slice from a DataFrame.\n",
      "Try using .loc[row_indexer,col_indexer] = value instead\n",
      "\n",
      "See the caveats in the documentation: https://pandas.pydata.org/pandas-docs/stable/user_guide/indexing.html#returning-a-view-versus-a-copy\n",
      "  X['Title'] = LE.fit_transform(X['Title'])\n",
      "/tmp/ipykernel_18/4133095977.py:9: SettingWithCopyWarning: \n",
      "A value is trying to be set on a copy of a slice from a DataFrame.\n",
      "Try using .loc[row_indexer,col_indexer] = value instead\n",
      "\n",
      "See the caveats in the documentation: https://pandas.pydata.org/pandas-docs/stable/user_guide/indexing.html#returning-a-view-versus-a-copy\n",
      "  X['tiket_2letter'] = LE.fit_transform(X['tiket_2letter'])\n"
     ]
    }
   ],
   "source": [
    "#let's enocde categorical values\n",
    "from sklearn.preprocessing import LabelEncoder\n",
    "\n",
    "LE = LabelEncoder()\n",
    "#X['Sex'] = LE.fit_transform(X['Sex'])\n",
    "X['Embarked'] = LE.fit_transform(X['Embarked'])\n",
    "X['FamilyType'] = LE.fit_transform(X['FamilyType'])\n",
    "X['Title'] = LE.fit_transform(X['Title'])\n",
    "X['tiket_2letter'] = LE.fit_transform(X['tiket_2letter'])\n",
    "print(X)"
   ]
  },
  {
   "cell_type": "code",
   "execution_count": 12,
   "id": "5cb23870",
   "metadata": {
    "execution": {
     "iopub.execute_input": "2024-07-18T13:12:01.393119Z",
     "iopub.status.busy": "2024-07-18T13:12:01.392698Z",
     "iopub.status.idle": "2024-07-18T13:12:01.397479Z",
     "shell.execute_reply": "2024-07-18T13:12:01.396359Z"
    },
    "papermill": {
     "duration": 0.020924,
     "end_time": "2024-07-18T13:12:01.399931",
     "exception": false,
     "start_time": "2024-07-18T13:12:01.379007",
     "status": "completed"
    },
    "tags": []
   },
   "outputs": [],
   "source": [
    "# Split the Data\n",
    "#from sklearn.model_selection import train_test_split\n",
    "#X_train , X_valid , y_train ,y_valid = train_test_split(X, y)"
   ]
  },
  {
   "cell_type": "code",
   "execution_count": 13,
   "id": "85ee708b",
   "metadata": {
    "execution": {
     "iopub.execute_input": "2024-07-18T13:12:01.426013Z",
     "iopub.status.busy": "2024-07-18T13:12:01.425605Z",
     "iopub.status.idle": "2024-07-18T13:12:01.557584Z",
     "shell.execute_reply": "2024-07-18T13:12:01.556381Z"
    },
    "papermill": {
     "duration": 0.147985,
     "end_time": "2024-07-18T13:12:01.560144",
     "exception": false,
     "start_time": "2024-07-18T13:12:01.412159",
     "status": "completed"
    },
    "tags": []
   },
   "outputs": [],
   "source": [
    "from sklearn.model_selection import KFold, cross_val_score\n",
    "\n",
    "kf = KFold(n_splits=5, shuffle=False, random_state=None)"
   ]
  },
  {
   "cell_type": "code",
   "execution_count": 14,
   "id": "67573b9f",
   "metadata": {
    "execution": {
     "iopub.execute_input": "2024-07-18T13:12:01.586976Z",
     "iopub.status.busy": "2024-07-18T13:12:01.586557Z",
     "iopub.status.idle": "2024-07-18T13:12:01.592460Z",
     "shell.execute_reply": "2024-07-18T13:12:01.590582Z"
    },
    "papermill": {
     "duration": 0.022697,
     "end_time": "2024-07-18T13:12:01.595665",
     "exception": false,
     "start_time": "2024-07-18T13:12:01.572968",
     "status": "completed"
    },
    "tags": []
   },
   "outputs": [],
   "source": [
    "from sklearn.model_selection import cross_val_score"
   ]
  },
  {
   "cell_type": "code",
   "execution_count": 15,
   "id": "46ddec5e",
   "metadata": {
    "execution": {
     "iopub.execute_input": "2024-07-18T13:12:01.621876Z",
     "iopub.status.busy": "2024-07-18T13:12:01.621438Z",
     "iopub.status.idle": "2024-07-18T13:12:02.613873Z",
     "shell.execute_reply": "2024-07-18T13:12:02.612934Z"
    },
    "papermill": {
     "duration": 1.00886,
     "end_time": "2024-07-18T13:12:02.616708",
     "exception": false,
     "start_time": "2024-07-18T13:12:01.607848",
     "status": "completed"
    },
    "tags": []
   },
   "outputs": [
    {
     "name": "stdout",
     "output_type": "stream",
     "text": [
      " cross val : 0.8294631710362047\n"
     ]
    }
   ],
   "source": [
    "# Now I make my model here and fit , but how do I chose this model is lower than this cell\n",
    "from xgboost import XGBClassifier\n",
    "classifier = XGBClassifier(\n",
    "                    colsample_bytree = 1.0,\n",
    "                    learning_rate = 0.1,                  \n",
    "                    max_depth= 4 ,\n",
    "                    n_estimators= 100,\n",
    "                    subsample = 0.8,\n",
    "                   )\n",
    "classifier.fit(X,y)\n",
    "classifier.score(X,y)\n",
    "cross_val = cross_val_score(classifier , X , y , cv = 10 , scoring = 'accuracy')\n",
    "print ( ' cross val :',cross_val.mean())"
   ]
  },
  {
   "cell_type": "code",
   "execution_count": 16,
   "id": "574ad3a0",
   "metadata": {
    "execution": {
     "iopub.execute_input": "2024-07-18T13:12:02.647302Z",
     "iopub.status.busy": "2024-07-18T13:12:02.646897Z",
     "iopub.status.idle": "2024-07-18T13:12:18.896601Z",
     "shell.execute_reply": "2024-07-18T13:12:18.895541Z"
    },
    "papermill": {
     "duration": 16.266557,
     "end_time": "2024-07-18T13:12:18.899526",
     "exception": false,
     "start_time": "2024-07-18T13:12:02.632969",
     "status": "completed"
    },
    "tags": []
   },
   "outputs": [
    {
     "name": "stdout",
     "output_type": "stream",
     "text": [
      "Fitting 5 folds for each of 108 candidates, totalling 540 fits\n",
      "Best parameters found:  {'colsample_bytree': 0.8, 'learning_rate': 0.1, 'max_depth': 4, 'n_estimators': 100, 'subsample': 0.8}\n",
      "Best cross-validation score:  0.8395016006528152\n"
     ]
    }
   ],
   "source": [
    "from sklearn.model_selection import GridSearchCV\n",
    "xgb_model = XGBClassifier(use_label_encoder=False, eval_metric='mlogloss')\n",
    "param_grid = {\n",
    "    'n_estimators': [50, 100, 200],\n",
    "    'learning_rate': [0.01, 0.1, 0.2],\n",
    "    'max_depth': [3, 4, 5],\n",
    "    'subsample': [0.8, 1.0],\n",
    "    'colsample_bytree': [0.8, 1.0]\n",
    "}\n",
    "\n",
    "grid_search = GridSearchCV(estimator=xgb_model, param_grid=param_grid, \n",
    "                           scoring='accuracy', cv=5, verbose=1, n_jobs=-1)\n",
    "\n",
    "grid_search.fit(X, y)\n",
    "print(\"Best parameters found: \", grid_search.best_params_)\n",
    "print(\"Best cross-validation score: \", grid_search.best_score_)"
   ]
  },
  {
   "cell_type": "code",
   "execution_count": 17,
   "id": "0f8952de",
   "metadata": {
    "execution": {
     "iopub.execute_input": "2024-07-18T13:12:18.927642Z",
     "iopub.status.busy": "2024-07-18T13:12:18.927209Z",
     "iopub.status.idle": "2024-07-18T13:12:19.255225Z",
     "shell.execute_reply": "2024-07-18T13:12:19.253898Z"
    },
    "papermill": {
     "duration": 0.344974,
     "end_time": "2024-07-18T13:12:19.257925",
     "exception": false,
     "start_time": "2024-07-18T13:12:18.912951",
     "status": "completed"
    },
    "tags": []
   },
   "outputs": [],
   "source": [
    "#how do i choose my model ? testing all models that may help in this issue and see which one has a better CV \n",
    "from sklearn.model_selection import cross_val_score\n",
    "from sklearn.naive_bayes import GaussianNB\n",
    "from sklearn.linear_model import LogisticRegression\n",
    "from sklearn import tree\n",
    "from sklearn.neighbors import KNeighborsClassifier\n",
    "from sklearn.ensemble import RandomForestClassifier\n",
    "from sklearn.svm import SVC"
   ]
  },
  {
   "cell_type": "code",
   "execution_count": 18,
   "id": "2f709a3e",
   "metadata": {
    "execution": {
     "iopub.execute_input": "2024-07-18T13:12:19.285236Z",
     "iopub.status.busy": "2024-07-18T13:12:19.284777Z",
     "iopub.status.idle": "2024-07-18T13:14:17.682674Z",
     "shell.execute_reply": "2024-07-18T13:14:17.681438Z"
    },
    "papermill": {
     "duration": 118.427686,
     "end_time": "2024-07-18T13:14:17.698284",
     "exception": false,
     "start_time": "2024-07-18T13:12:19.270598",
     "status": "completed"
    },
    "tags": []
   },
   "outputs": [
    {
     "name": "stdout",
     "output_type": "stream",
     "text": [
      "Fitting 5 folds for each of 216 candidates, totalling 1080 fits\n",
      "Best parameters found:  {'bootstrap': True, 'max_depth': 10, 'min_samples_leaf': 1, 'min_samples_split': 5, 'n_estimators': 100}\n",
      "Best cross-validation score:  0.8193333751804659\n"
     ]
    }
   ],
   "source": [
    "rf_model = RandomForestClassifier(random_state=42)\n",
    "param_grid = {\n",
    "    'n_estimators': [50, 100, 200],\n",
    "    'max_depth': [None, 10, 20, 30],\n",
    "    'min_samples_split': [2, 5, 10],\n",
    "    'min_samples_leaf': [1, 2, 4],\n",
    "    'bootstrap': [True, False]\n",
    "}\n",
    "grid_search = GridSearchCV(estimator=rf_model, param_grid=param_grid, \n",
    "                           scoring='accuracy', cv=5, verbose=1, n_jobs=-1)\n",
    "grid_search.fit(X, y)\n",
    "print(\"Best parameters found: \", grid_search.best_params_)\n",
    "print(\"Best cross-validation score: \", grid_search.best_score_)"
   ]
  },
  {
   "cell_type": "code",
   "execution_count": 19,
   "id": "eb1cb438",
   "metadata": {
    "execution": {
     "iopub.execute_input": "2024-07-18T13:14:17.726663Z",
     "iopub.status.busy": "2024-07-18T13:14:17.726253Z",
     "iopub.status.idle": "2024-07-18T13:14:17.802593Z",
     "shell.execute_reply": "2024-07-18T13:14:17.801300Z"
    },
    "papermill": {
     "duration": 0.093158,
     "end_time": "2024-07-18T13:14:17.805187",
     "exception": false,
     "start_time": "2024-07-18T13:14:17.712029",
     "status": "completed"
    },
    "tags": []
   },
   "outputs": [
    {
     "name": "stdout",
     "output_type": "stream",
     "text": [
      "[0.64444444 0.64044944 0.69662921 0.71910112 0.71910112 0.68539326\n",
      " 0.76404494 0.7752809  0.76404494 0.79775281]\n",
      "0.7206242197253433\n"
     ]
    }
   ],
   "source": [
    "gnb = GaussianNB()\n",
    "cv = cross_val_score( gnb , X , y ,cv=10 , scoring = 'accuracy')\n",
    "print(cv)\n",
    "print(cv.mean())\n",
    "# CV = 0.77"
   ]
  },
  {
   "cell_type": "code",
   "execution_count": 20,
   "id": "660b04f4",
   "metadata": {
    "execution": {
     "iopub.execute_input": "2024-07-18T13:14:17.833790Z",
     "iopub.status.busy": "2024-07-18T13:14:17.833369Z",
     "iopub.status.idle": "2024-07-18T13:14:18.149925Z",
     "shell.execute_reply": "2024-07-18T13:14:18.147671Z"
    },
    "papermill": {
     "duration": 0.334962,
     "end_time": "2024-07-18T13:14:18.152961",
     "exception": false,
     "start_time": "2024-07-18T13:14:17.817999",
     "status": "completed"
    },
    "tags": []
   },
   "outputs": [
    {
     "name": "stdout",
     "output_type": "stream",
     "text": [
      "[0.66666667 0.60674157 0.6741573  0.69662921 0.68539326 0.70786517\n",
      " 0.76404494 0.7752809  0.73033708 0.7752809 ]\n",
      "0.7082397003745318\n"
     ]
    }
   ],
   "source": [
    "lr = LogisticRegression(max_iter = 2000)\n",
    "cv = cross_val_score( lr , X , y , cv=10, scoring = 'accuracy')\n",
    "print(cv)\n",
    "print(cv.mean())\n",
    "# CV = 0.78"
   ]
  },
  {
   "cell_type": "code",
   "execution_count": 21,
   "id": "a63af0bd",
   "metadata": {
    "execution": {
     "iopub.execute_input": "2024-07-18T13:14:18.181801Z",
     "iopub.status.busy": "2024-07-18T13:14:18.181372Z",
     "iopub.status.idle": "2024-07-18T13:14:18.290620Z",
     "shell.execute_reply": "2024-07-18T13:14:18.288704Z"
    },
    "papermill": {
     "duration": 0.128085,
     "end_time": "2024-07-18T13:14:18.294487",
     "exception": false,
     "start_time": "2024-07-18T13:14:18.166402",
     "status": "completed"
    },
    "tags": []
   },
   "outputs": [
    {
     "name": "stdout",
     "output_type": "stream",
     "text": [
      "[0.8        0.79775281 0.70786517 0.7752809  0.83146067 0.82022472\n",
      " 0.76404494 0.7752809  0.82022472 0.7752809 ]\n",
      "0.786741573033708\n"
     ]
    }
   ],
   "source": [
    "dt = tree.DecisionTreeClassifier(random_state = 1)\n",
    "cv = cross_val_score(dt , X ,y ,cv=10, scoring = 'accuracy')\n",
    "print(cv)\n",
    "print(cv.mean())\n",
    "# CV = 0.74"
   ]
  },
  {
   "cell_type": "code",
   "execution_count": 22,
   "id": "663d8e02",
   "metadata": {
    "execution": {
     "iopub.execute_input": "2024-07-18T13:14:18.325941Z",
     "iopub.status.busy": "2024-07-18T13:14:18.324776Z",
     "iopub.status.idle": "2024-07-18T13:14:18.485024Z",
     "shell.execute_reply": "2024-07-18T13:14:18.483346Z"
    },
    "papermill": {
     "duration": 0.179293,
     "end_time": "2024-07-18T13:14:18.488790",
     "exception": false,
     "start_time": "2024-07-18T13:14:18.309497",
     "status": "completed"
    },
    "tags": []
   },
   "outputs": [
    {
     "name": "stdout",
     "output_type": "stream",
     "text": [
      "[0.67777778 0.68539326 0.66292135 0.68539326 0.70786517 0.71910112\n",
      " 0.7752809  0.78651685 0.75280899 0.74157303]\n",
      "0.7194631710362047\n"
     ]
    }
   ],
   "source": [
    "knn = KNeighborsClassifier()\n",
    "cv = cross_val_score(knn,X ,y ,cv=10 , scoring = 'accuracy')\n",
    "print(cv)\n",
    "print(cv.mean())\n",
    "# CV = 0.68"
   ]
  },
  {
   "cell_type": "code",
   "execution_count": 23,
   "id": "d39e2c69",
   "metadata": {
    "execution": {
     "iopub.execute_input": "2024-07-18T13:14:18.517625Z",
     "iopub.status.busy": "2024-07-18T13:14:18.517224Z",
     "iopub.status.idle": "2024-07-18T13:14:19.978323Z",
     "shell.execute_reply": "2024-07-18T13:14:19.976880Z"
    },
    "papermill": {
     "duration": 1.478789,
     "end_time": "2024-07-18T13:14:19.980927",
     "exception": false,
     "start_time": "2024-07-18T13:14:18.502138",
     "status": "completed"
    },
    "tags": []
   },
   "outputs": [
    {
     "name": "stdout",
     "output_type": "stream",
     "text": [
      "[0.7877095  0.73033708 0.84269663 0.81460674 0.8258427 ]\n",
      "0.8002385286548239\n"
     ]
    }
   ],
   "source": [
    "rf = RandomForestClassifier(random_state = 1)\n",
    "cv = cross_val_score(rf ,X ,y ,cv=5 , scoring = 'accuracy')\n",
    "print(cv)\n",
    "print(cv.mean())\n",
    "# CV = 0.79"
   ]
  },
  {
   "cell_type": "code",
   "execution_count": 24,
   "id": "69d7c875",
   "metadata": {
    "execution": {
     "iopub.execute_input": "2024-07-18T13:14:20.008938Z",
     "iopub.status.busy": "2024-07-18T13:14:20.008521Z",
     "iopub.status.idle": "2024-07-18T13:14:21.188860Z",
     "shell.execute_reply": "2024-07-18T13:14:21.187716Z"
    },
    "papermill": {
     "duration": 1.197358,
     "end_time": "2024-07-18T13:14:21.191587",
     "exception": false,
     "start_time": "2024-07-18T13:14:19.994229",
     "status": "completed"
    },
    "tags": []
   },
   "outputs": [
    {
     "name": "stdout",
     "output_type": "stream",
     "text": [
      "[0.6        0.60674157 0.69662921 0.69662921 0.6741573  0.68539326\n",
      " 0.69662921 0.74157303 0.73033708 0.69662921]\n",
      "0.6824719101123596\n"
     ]
    }
   ],
   "source": [
    "svc = SVC(probability = True)\n",
    "cv = cross_val_score(svc,X ,y ,cv=10, scoring = 'accuracy')\n",
    "print(cv)\n",
    "print(cv.mean())\n",
    "# CV = 0.68"
   ]
  },
  {
   "cell_type": "code",
   "execution_count": 25,
   "id": "0e3c1676",
   "metadata": {
    "execution": {
     "iopub.execute_input": "2024-07-18T13:14:21.221753Z",
     "iopub.status.busy": "2024-07-18T13:14:21.220757Z",
     "iopub.status.idle": "2024-07-18T13:14:21.947894Z",
     "shell.execute_reply": "2024-07-18T13:14:21.946941Z"
    },
    "papermill": {
     "duration": 0.744363,
     "end_time": "2024-07-18T13:14:21.950596",
     "exception": false,
     "start_time": "2024-07-18T13:14:21.206233",
     "status": "completed"
    },
    "tags": []
   },
   "outputs": [
    {
     "name": "stdout",
     "output_type": "stream",
     "text": [
      "[0.78888889 0.82022472 0.6741573  0.79775281 0.86516854 0.84269663\n",
      " 0.80898876 0.78651685 0.86516854 0.80898876]\n",
      "0.8058551810237201\n"
     ]
    }
   ],
   "source": [
    "# And this one was the best\n",
    "from xgboost import XGBClassifier\n",
    "xgb = XGBClassifier(random_state =1)\n",
    "cv = cross_val_score(xgb,X ,y ,cv=10 , scoring = 'accuracy')\n",
    "print(cv)\n",
    "print(cv.mean())\n",
    "# CV = 0.80 and then custimize this model to better performance"
   ]
  },
  {
   "cell_type": "code",
   "execution_count": 26,
   "id": "742cd125",
   "metadata": {
    "execution": {
     "iopub.execute_input": "2024-07-18T13:14:21.979977Z",
     "iopub.status.busy": "2024-07-18T13:14:21.979557Z",
     "iopub.status.idle": "2024-07-18T13:14:22.035654Z",
     "shell.execute_reply": "2024-07-18T13:14:22.034479Z"
    },
    "papermill": {
     "duration": 0.073537,
     "end_time": "2024-07-18T13:14:22.038388",
     "exception": false,
     "start_time": "2024-07-18T13:14:21.964851",
     "status": "completed"
    },
    "tags": []
   },
   "outputs": [
    {
     "name": "stdout",
     "output_type": "stream",
     "text": [
      "     PassengerId  Pclass                                          Name  \\\n",
      "0            892       3                              Kelly, Mr. James   \n",
      "1            893       3              Wilkes, Mrs. James (Ellen Needs)   \n",
      "2            894       2                     Myles, Mr. Thomas Francis   \n",
      "3            895       3                              Wirz, Mr. Albert   \n",
      "4            896       3  Hirvonen, Mrs. Alexander (Helga E Lindqvist)   \n",
      "..           ...     ...                                           ...   \n",
      "413         1305       3                            Spector, Mr. Woolf   \n",
      "414         1306       1                  Oliva y Ocana, Dona. Fermina   \n",
      "415         1307       3                  Saether, Mr. Simon Sivertsen   \n",
      "416         1308       3                           Ware, Mr. Frederick   \n",
      "417         1309       3                      Peter, Master. Michael J   \n",
      "\n",
      "        Sex   Age              Ticket      Fare Cabin Embarked FamilyType  \\\n",
      "0      male  34.5              330911    7.8292   NaN        Q      alone   \n",
      "1    female  47.0              363272    7.0000   NaN        S      small   \n",
      "2      male  62.0              240276    9.6875   NaN        Q      alone   \n",
      "3      male  27.0              315154    8.6625   NaN        S      alone   \n",
      "4    female  22.0             3101298   12.2875   NaN        S      small   \n",
      "..      ...   ...                 ...       ...   ...      ...        ...   \n",
      "413    male   NaN           A.5. 3236    8.0500   NaN        S      alone   \n",
      "414  female  39.0            PC 17758  108.9000  C105        C      alone   \n",
      "415    male  38.5  SOTON/O.Q. 3101262    7.2500   NaN        S      alone   \n",
      "416    male   NaN              359309    8.0500   NaN        S      alone   \n",
      "417    male   NaN                2668   22.3583   NaN        C      small   \n",
      "\n",
      "    tiket_2letter  tiket_len  cabin_num cabin_1letter   Title  \n",
      "0              33          6          1             3      Mr  \n",
      "1              36          6          1             3     Mrs  \n",
      "2              24          6          1             2      Mr  \n",
      "3              31          6          1             3      Mr  \n",
      "4              31          7          1             3     Mrs  \n",
      "..            ...        ...        ...           ...     ...  \n",
      "413            A.          9          2             A      Mr  \n",
      "414            PC          8          2             P    Dona  \n",
      "415            SO         18          2             S      Mr  \n",
      "416            35          6          1             3      Mr  \n",
      "417            26          4          1             2  Master  \n",
      "\n",
      "[418 rows x 15 columns]\n"
     ]
    }
   ],
   "source": [
    "test_data = pd.read_csv('/kaggle/input/testdatatitanic/test.csv')\n",
    "test_data['FamilySize'] = test_data.apply(lambda X: get_family_size(X.Parch, X.SibSp), axis = 1)\n",
    "test_data['FamilyType'] = test_data.apply(lambda X: get_family_type(X.FamilySize), axis = 1)\n",
    "test_data.drop(['FamilySize', 'Parch', 'SibSp'], axis = 1, inplace=True)\n",
    "\n",
    "test_data['tiket_2letter'] = test_data.Ticket.apply(lambda X: X[:2])\n",
    "\n",
    "test_data['tiket_len'] = test_data.Ticket.apply(lambda X: len(X)) \n",
    "\n",
    "test_data['cabin_num'] = test_data.Ticket.apply(lambda X: len(X.split()))\n",
    "\n",
    "test_data['cabin_1letter'] = test_data.Ticket.apply(lambda X: X[:1])\n",
    "\n",
    "test_data['Title'] = test_data['Name'].apply(lambda X: X.split(',')[1].split('.')[0].strip())\n",
    "\n",
    "print(test_data)"
   ]
  },
  {
   "cell_type": "code",
   "execution_count": 27,
   "id": "4d0b411c",
   "metadata": {
    "execution": {
     "iopub.execute_input": "2024-07-18T13:14:22.067183Z",
     "iopub.status.busy": "2024-07-18T13:14:22.066777Z",
     "iopub.status.idle": "2024-07-18T13:14:22.078968Z",
     "shell.execute_reply": "2024-07-18T13:14:22.077656Z"
    },
    "papermill": {
     "duration": 0.029778,
     "end_time": "2024-07-18T13:14:22.081973",
     "exception": false,
     "start_time": "2024-07-18T13:14:22.052195",
     "status": "completed"
    },
    "tags": []
   },
   "outputs": [
    {
     "name": "stdout",
     "output_type": "stream",
     "text": [
      "     Pclass      Fare Embarked   Title FamilyType  tiket_len tiket_2letter\n",
      "0         3    7.8292        Q      Mr      alone          6            33\n",
      "1         3    7.0000        S     Mrs      small          6            36\n",
      "2         2    9.6875        Q      Mr      alone          6            24\n",
      "3         3    8.6625        S      Mr      alone          6            31\n",
      "4         3   12.2875        S     Mrs      small          7            31\n",
      "..      ...       ...      ...     ...        ...        ...           ...\n",
      "413       3    8.0500        S      Mr      alone          9            A.\n",
      "414       1  108.9000        C    Dona      alone          8            PC\n",
      "415       3    7.2500        S      Mr      alone         18            SO\n",
      "416       3    8.0500        S      Mr      alone          6            35\n",
      "417       3   22.3583        C  Master      small          4            26\n",
      "\n",
      "[418 rows x 7 columns]\n"
     ]
    }
   ],
   "source": [
    "# Now take the test data for prediction\n",
    "X_test = test_data[features]\n",
    "print(X_test)"
   ]
  },
  {
   "cell_type": "code",
   "execution_count": 28,
   "id": "13655321",
   "metadata": {
    "execution": {
     "iopub.execute_input": "2024-07-18T13:14:22.110538Z",
     "iopub.status.busy": "2024-07-18T13:14:22.110108Z",
     "iopub.status.idle": "2024-07-18T13:14:22.114902Z",
     "shell.execute_reply": "2024-07-18T13:14:22.113771Z"
    },
    "papermill": {
     "duration": 0.021572,
     "end_time": "2024-07-18T13:14:22.117120",
     "exception": false,
     "start_time": "2024-07-18T13:14:22.095548",
     "status": "completed"
    },
    "tags": []
   },
   "outputs": [],
   "source": [
    "# Fill values\n",
    "#X_test['Age'] = X_test['Age'].fillna(X_test['Age'].median())\n"
   ]
  },
  {
   "cell_type": "code",
   "execution_count": 29,
   "id": "99ca5e5d",
   "metadata": {
    "execution": {
     "iopub.execute_input": "2024-07-18T13:14:22.145764Z",
     "iopub.status.busy": "2024-07-18T13:14:22.145395Z",
     "iopub.status.idle": "2024-07-18T13:14:22.159289Z",
     "shell.execute_reply": "2024-07-18T13:14:22.158078Z"
    },
    "papermill": {
     "duration": 0.033009,
     "end_time": "2024-07-18T13:14:22.163623",
     "exception": false,
     "start_time": "2024-07-18T13:14:22.130614",
     "status": "completed"
    },
    "tags": []
   },
   "outputs": [
    {
     "name": "stdout",
     "output_type": "stream",
     "text": [
      "     Pclass      Fare  Embarked  Title  FamilyType  tiket_len  tiket_2letter\n",
      "0         3    7.8292         1      5           0          6             17\n",
      "1         3    7.0000         2      6           2          6             20\n",
      "2         2    9.6875         1      5           0          6             10\n",
      "3         3    8.6625         2      5           0          6             15\n",
      "4         3   12.2875         2      6           2          7             15\n",
      "..      ...       ...       ...    ...         ...        ...            ...\n",
      "413       3    8.0500         2      5           0          9             32\n",
      "414       1  108.9000         0      1           0          8             40\n",
      "415       3    7.2500         2      5           0         18             44\n",
      "416       3    8.0500         2      5           0          6             19\n",
      "417       3   22.3583         0      3           2          4             12\n",
      "\n",
      "[418 rows x 7 columns]\n"
     ]
    },
    {
     "name": "stderr",
     "output_type": "stream",
     "text": [
      "/tmp/ipykernel_18/2349464144.py:3: SettingWithCopyWarning: \n",
      "A value is trying to be set on a copy of a slice from a DataFrame.\n",
      "Try using .loc[row_indexer,col_indexer] = value instead\n",
      "\n",
      "See the caveats in the documentation: https://pandas.pydata.org/pandas-docs/stable/user_guide/indexing.html#returning-a-view-versus-a-copy\n",
      "  X_test['Embarked'] = LE.fit_transform(X_test['Embarked'])\n",
      "/tmp/ipykernel_18/2349464144.py:4: SettingWithCopyWarning: \n",
      "A value is trying to be set on a copy of a slice from a DataFrame.\n",
      "Try using .loc[row_indexer,col_indexer] = value instead\n",
      "\n",
      "See the caveats in the documentation: https://pandas.pydata.org/pandas-docs/stable/user_guide/indexing.html#returning-a-view-versus-a-copy\n",
      "  X_test['FamilyType'] = LE.fit_transform(X_test['FamilyType'])\n",
      "/tmp/ipykernel_18/2349464144.py:6: SettingWithCopyWarning: \n",
      "A value is trying to be set on a copy of a slice from a DataFrame.\n",
      "Try using .loc[row_indexer,col_indexer] = value instead\n",
      "\n",
      "See the caveats in the documentation: https://pandas.pydata.org/pandas-docs/stable/user_guide/indexing.html#returning-a-view-versus-a-copy\n",
      "  X_test['Title'] = LE.fit_transform(X_test['Title'])\n",
      "/tmp/ipykernel_18/2349464144.py:7: SettingWithCopyWarning: \n",
      "A value is trying to be set on a copy of a slice from a DataFrame.\n",
      "Try using .loc[row_indexer,col_indexer] = value instead\n",
      "\n",
      "See the caveats in the documentation: https://pandas.pydata.org/pandas-docs/stable/user_guide/indexing.html#returning-a-view-versus-a-copy\n",
      "  X_test['tiket_2letter'] = LE.fit_transform(X_test['tiket_2letter'])\n"
     ]
    }
   ],
   "source": [
    "#enocde categorical values\n",
    "#X_test['Sex'] = LE.fit_transform(X_test['Sex'])\n",
    "X_test['Embarked'] = LE.fit_transform(X_test['Embarked'])\n",
    "X_test['FamilyType'] = LE.fit_transform(X_test['FamilyType'])\n",
    "\n",
    "X_test['Title'] = LE.fit_transform(X_test['Title'])\n",
    "X_test['tiket_2letter'] = LE.fit_transform(X_test['tiket_2letter'])\n",
    "\n",
    "print(X_test)"
   ]
  },
  {
   "cell_type": "code",
   "execution_count": 30,
   "id": "42b91f8c",
   "metadata": {
    "execution": {
     "iopub.execute_input": "2024-07-18T13:14:22.193362Z",
     "iopub.status.busy": "2024-07-18T13:14:22.192956Z",
     "iopub.status.idle": "2024-07-18T13:14:22.202041Z",
     "shell.execute_reply": "2024-07-18T13:14:22.201038Z"
    },
    "papermill": {
     "duration": 0.032502,
     "end_time": "2024-07-18T13:14:22.210014",
     "exception": false,
     "start_time": "2024-07-18T13:14:22.177512",
     "status": "completed"
    },
    "tags": []
   },
   "outputs": [],
   "source": [
    "# Predict the values\n",
    "prediction = classifier.predict(X_test)\n",
    "#print(prediction)\n",
    "#print(y_test)"
   ]
  },
  {
   "cell_type": "code",
   "execution_count": 31,
   "id": "d420cf86",
   "metadata": {
    "execution": {
     "iopub.execute_input": "2024-07-18T13:14:22.239983Z",
     "iopub.status.busy": "2024-07-18T13:14:22.239564Z",
     "iopub.status.idle": "2024-07-18T13:14:22.254830Z",
     "shell.execute_reply": "2024-07-18T13:14:22.253747Z"
    },
    "papermill": {
     "duration": 0.032755,
     "end_time": "2024-07-18T13:14:22.257260",
     "exception": false,
     "start_time": "2024-07-18T13:14:22.224505",
     "status": "completed"
    },
    "tags": []
   },
   "outputs": [
    {
     "data": {
      "text/html": [
       "<div>\n",
       "<style scoped>\n",
       "    .dataframe tbody tr th:only-of-type {\n",
       "        vertical-align: middle;\n",
       "    }\n",
       "\n",
       "    .dataframe tbody tr th {\n",
       "        vertical-align: top;\n",
       "    }\n",
       "\n",
       "    .dataframe thead th {\n",
       "        text-align: right;\n",
       "    }\n",
       "</style>\n",
       "<table border=\"1\" class=\"dataframe\">\n",
       "  <thead>\n",
       "    <tr style=\"text-align: right;\">\n",
       "      <th></th>\n",
       "      <th>PassengerId</th>\n",
       "      <th>Survived</th>\n",
       "    </tr>\n",
       "  </thead>\n",
       "  <tbody>\n",
       "    <tr>\n",
       "      <th>0</th>\n",
       "      <td>892</td>\n",
       "      <td>1</td>\n",
       "    </tr>\n",
       "    <tr>\n",
       "      <th>1</th>\n",
       "      <td>893</td>\n",
       "      <td>0</td>\n",
       "    </tr>\n",
       "    <tr>\n",
       "      <th>2</th>\n",
       "      <td>894</td>\n",
       "      <td>0</td>\n",
       "    </tr>\n",
       "    <tr>\n",
       "      <th>3</th>\n",
       "      <td>895</td>\n",
       "      <td>0</td>\n",
       "    </tr>\n",
       "    <tr>\n",
       "      <th>4</th>\n",
       "      <td>896</td>\n",
       "      <td>1</td>\n",
       "    </tr>\n",
       "  </tbody>\n",
       "</table>\n",
       "</div>"
      ],
      "text/plain": [
       "   PassengerId  Survived\n",
       "0          892         1\n",
       "1          893         0\n",
       "2          894         0\n",
       "3          895         0\n",
       "4          896         1"
      ]
     },
     "execution_count": 31,
     "metadata": {},
     "output_type": "execute_result"
    }
   ],
   "source": [
    "output = pd.DataFrame({'PassengerId': test_data.PassengerId,'Survived': prediction})\n",
    "output.to_csv('submission.csv', index=False)\n",
    "output.head()"
   ]
  },
  {
   "cell_type": "code",
   "execution_count": null,
   "id": "18bbba05",
   "metadata": {
    "papermill": {
     "duration": 0.014539,
     "end_time": "2024-07-18T13:14:22.286340",
     "exception": false,
     "start_time": "2024-07-18T13:14:22.271801",
     "status": "completed"
    },
    "tags": []
   },
   "outputs": [],
   "source": []
  }
 ],
 "metadata": {
  "kaggle": {
   "accelerator": "none",
   "dataSources": [
    {
     "datasetId": 5352678,
     "sourceId": 8903373,
     "sourceType": "datasetVersion"
    },
    {
     "datasetId": 5353557,
     "sourceId": 8904543,
     "sourceType": "datasetVersion"
    }
   ],
   "dockerImageVersionId": 30732,
   "isGpuEnabled": false,
   "isInternetEnabled": false,
   "language": "python",
   "sourceType": "notebook"
  },
  "kernelspec": {
   "display_name": "Python 3",
   "language": "python",
   "name": "python3"
  },
  "language_info": {
   "codemirror_mode": {
    "name": "ipython",
    "version": 3
   },
   "file_extension": ".py",
   "mimetype": "text/x-python",
   "name": "python",
   "nbconvert_exporter": "python",
   "pygments_lexer": "ipython3",
   "version": "3.10.13"
  },
  "papermill": {
   "default_parameters": {},
   "duration": 149.914131,
   "end_time": "2024-07-18T13:14:24.923505",
   "environment_variables": {},
   "exception": null,
   "input_path": "__notebook__.ipynb",
   "output_path": "__notebook__.ipynb",
   "parameters": {},
   "start_time": "2024-07-18T13:11:55.009374",
   "version": "2.5.0"
  }
 },
 "nbformat": 4,
 "nbformat_minor": 5
}
