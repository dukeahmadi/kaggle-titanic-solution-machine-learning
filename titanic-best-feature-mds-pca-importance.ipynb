{
 "cells": [
  {
   "cell_type": "code",
   "execution_count": null,
   "id": "cec0452f",
   "metadata": {
    "papermill": {
     "duration": 0.018178,
     "end_time": "2024-08-15T15:00:52.738257",
     "exception": false,
     "start_time": "2024-08-15T15:00:52.720079",
     "status": "completed"
    },
    "tags": []
   },
   "outputs": [],
   "source": []
  },
  {
   "cell_type": "code",
   "execution_count": 1,
   "id": "c8790c44",
   "metadata": {
    "_cell_guid": "b1076dfc-b9ad-4769-8c92-a6c4dae69d19",
    "_uuid": "8f2839f25d086af736a60e9eeb907d3b93b6e0e5",
    "execution": {
     "iopub.execute_input": "2024-08-15T15:00:52.774866Z",
     "iopub.status.busy": "2024-08-15T15:00:52.774458Z",
     "iopub.status.idle": "2024-08-15T15:00:53.670153Z",
     "shell.execute_reply": "2024-08-15T15:00:53.669060Z"
    },
    "papermill": {
     "duration": 0.916873,
     "end_time": "2024-08-15T15:00:53.672836",
     "exception": false,
     "start_time": "2024-08-15T15:00:52.755963",
     "status": "completed"
    },
    "tags": []
   },
   "outputs": [
    {
     "name": "stdout",
     "output_type": "stream",
     "text": [
      "/kaggle/input/titaniccsv/titanic.csv\n",
      "/kaggle/input/titaniccsv/test.csv\n"
     ]
    }
   ],
   "source": [
    "# This Python 3 environment comes with many helpful analytics libraries installed\n",
    "# It is defined by the kaggle/python Docker image: https://github.com/kaggle/docker-python\n",
    "# For example, here's several helpful packages to load\n",
    "\n",
    "import numpy as np # linear algebra\n",
    "import pandas as pd # data processing, CSV file I/O (e.g. pd.read_csv)\n",
    "\n",
    "# Input data files are available in the read-only \"../input/\" directory\n",
    "# For example, running this (by clicking run or pressing Shift+Enter) will list all files under the input directory\n",
    "\n",
    "import os\n",
    "for dirname, _, filenames in os.walk('/kaggle/input'):\n",
    "    for filename in filenames:\n",
    "        print(os.path.join(dirname, filename))\n",
    "\n",
    "# You can write up to 20GB to the current directory (/kaggle/working/) that gets preserved as output when you create a version using \"Save & Run All\" \n",
    "# You can also write temporary files to /kaggle/temp/, but they won't be saved outside of the current session"
   ]
  },
  {
   "cell_type": "code",
   "execution_count": 2,
   "id": "96bcb1d1",
   "metadata": {
    "execution": {
     "iopub.execute_input": "2024-08-15T15:00:53.709624Z",
     "iopub.status.busy": "2024-08-15T15:00:53.709078Z",
     "iopub.status.idle": "2024-08-15T15:00:55.845490Z",
     "shell.execute_reply": "2024-08-15T15:00:55.844332Z"
    },
    "papermill": {
     "duration": 2.157921,
     "end_time": "2024-08-15T15:00:55.848163",
     "exception": false,
     "start_time": "2024-08-15T15:00:53.690242",
     "status": "completed"
    },
    "tags": []
   },
   "outputs": [],
   "source": [
    "import numpy as np\n",
    "import pandas as pd\n",
    "import seaborn as sns \n",
    "\n",
    "import matplotlib.pyplot as plt\n",
    "\n",
    "%matplotlib inline\n",
    "\n",
    "\n",
    "from pandas import DataFrame\n",
    "from scipy.stats import boxcox\n",
    "from matplotlib import pyplot\n",
    "\n",
    "from sklearn.impute import SimpleImputer\n",
    "\n",
    "from sklearn.ensemble import RandomForestClassifier, AdaBoostClassifier, GradientBoostingClassifier, ExtraTreesClassifier, VotingClassifier\n",
    "from sklearn.tree import DecisionTreeClassifier\n",
    "\n",
    "from sklearn.model_selection import GridSearchCV, cross_val_score, StratifiedKFold, learning_curve\n",
    "\n",
    "from xgboost import XGBClassifier\n",
    "\n",
    "\n",
    "\n",
    "\n",
    "from sklearn.metrics import log_loss, accuracy_score\n",
    "from sklearn.metrics import classification_report\n",
    "from sklearn.metrics import confusion_matrix\n",
    "\n",
    "\n",
    "\n",
    "\n",
    "\n",
    "from sklearn.ensemble import RandomForestClassifier\n",
    "from sklearn.model_selection import cross_val_predict\n",
    "from sklearn.preprocessing import LabelEncoder\n",
    "from sklearn.neighbors import KNeighborsClassifier\n",
    "\n",
    "\n",
    "\n",
    "from sklearn.linear_model import LogisticRegression\n",
    "from sklearn.naive_bayes import GaussianNB\n",
    "from sklearn.ensemble import RandomForestClassifier\n",
    "\n",
    "from sklearn.svm import SVC\n",
    "\n",
    "from sklearn.metrics import log_loss, fbeta_score, make_scorer, confusion_matrix, roc_curve\n",
    "from sklearn.calibration import CalibratedClassifierCV\n",
    "\n",
    "\n",
    "from tqdm import tqdm\n",
    "\n",
    "from sklearn.metrics import f1_score\n",
    "\n",
    "\n",
    "from sklearn.model_selection import cross_val_score\n",
    "from sklearn.model_selection import GridSearchCV    \n",
    "from xgboost import XGBClassifier\n",
    "from sklearn.metrics import f1_score\n",
    "\n",
    "\n",
    "from sklearn.cluster import KMeans\n",
    "\n",
    "import warnings\n",
    "warnings.filterwarnings(\"ignore\")"
   ]
  },
  {
   "cell_type": "code",
   "execution_count": 3,
   "id": "582be013",
   "metadata": {
    "execution": {
     "iopub.execute_input": "2024-08-15T15:00:55.886306Z",
     "iopub.status.busy": "2024-08-15T15:00:55.885894Z",
     "iopub.status.idle": "2024-08-15T15:00:55.918208Z",
     "shell.execute_reply": "2024-08-15T15:00:55.917262Z"
    },
    "papermill": {
     "duration": 0.054734,
     "end_time": "2024-08-15T15:00:55.920801",
     "exception": false,
     "start_time": "2024-08-15T15:00:55.866067",
     "status": "completed"
    },
    "tags": []
   },
   "outputs": [],
   "source": [
    "train = pd.read_csv('/kaggle/input/titaniccsv/titanic.csv')\n",
    "\n",
    "test = pd.read_csv('/kaggle/input/titaniccsv/test.csv')\n",
    "\n",
    "full_data = [train,test]"
   ]
  },
  {
   "cell_type": "code",
   "execution_count": 4,
   "id": "7ca81c53",
   "metadata": {
    "execution": {
     "iopub.execute_input": "2024-08-15T15:00:55.957956Z",
     "iopub.status.busy": "2024-08-15T15:00:55.957582Z",
     "iopub.status.idle": "2024-08-15T15:00:55.987683Z",
     "shell.execute_reply": "2024-08-15T15:00:55.986689Z"
    },
    "papermill": {
     "duration": 0.051416,
     "end_time": "2024-08-15T15:00:55.990140",
     "exception": false,
     "start_time": "2024-08-15T15:00:55.938724",
     "status": "completed"
    },
    "tags": []
   },
   "outputs": [
    {
     "data": {
      "text/html": [
       "<div>\n",
       "<style scoped>\n",
       "    .dataframe tbody tr th:only-of-type {\n",
       "        vertical-align: middle;\n",
       "    }\n",
       "\n",
       "    .dataframe tbody tr th {\n",
       "        vertical-align: top;\n",
       "    }\n",
       "\n",
       "    .dataframe thead th {\n",
       "        text-align: right;\n",
       "    }\n",
       "</style>\n",
       "<table border=\"1\" class=\"dataframe\">\n",
       "  <thead>\n",
       "    <tr style=\"text-align: right;\">\n",
       "      <th></th>\n",
       "      <th>PassengerId</th>\n",
       "      <th>Survived</th>\n",
       "      <th>Pclass</th>\n",
       "      <th>Name</th>\n",
       "      <th>Sex</th>\n",
       "      <th>Age</th>\n",
       "      <th>SibSp</th>\n",
       "      <th>Parch</th>\n",
       "      <th>Ticket</th>\n",
       "      <th>Fare</th>\n",
       "      <th>Cabin</th>\n",
       "      <th>Embarked</th>\n",
       "    </tr>\n",
       "  </thead>\n",
       "  <tbody>\n",
       "    <tr>\n",
       "      <th>0</th>\n",
       "      <td>1</td>\n",
       "      <td>0</td>\n",
       "      <td>3</td>\n",
       "      <td>Braund, Mr. Owen Harris</td>\n",
       "      <td>male</td>\n",
       "      <td>22.0</td>\n",
       "      <td>1</td>\n",
       "      <td>0</td>\n",
       "      <td>A/5 21171</td>\n",
       "      <td>7.2500</td>\n",
       "      <td>NaN</td>\n",
       "      <td>S</td>\n",
       "    </tr>\n",
       "    <tr>\n",
       "      <th>1</th>\n",
       "      <td>2</td>\n",
       "      <td>1</td>\n",
       "      <td>1</td>\n",
       "      <td>Cumings, Mrs. John Bradley (Florence Briggs Th...</td>\n",
       "      <td>female</td>\n",
       "      <td>38.0</td>\n",
       "      <td>1</td>\n",
       "      <td>0</td>\n",
       "      <td>PC 17599</td>\n",
       "      <td>71.2833</td>\n",
       "      <td>C85</td>\n",
       "      <td>C</td>\n",
       "    </tr>\n",
       "    <tr>\n",
       "      <th>2</th>\n",
       "      <td>3</td>\n",
       "      <td>1</td>\n",
       "      <td>3</td>\n",
       "      <td>Heikkinen, Miss. Laina</td>\n",
       "      <td>female</td>\n",
       "      <td>26.0</td>\n",
       "      <td>0</td>\n",
       "      <td>0</td>\n",
       "      <td>STON/O2. 3101282</td>\n",
       "      <td>7.9250</td>\n",
       "      <td>NaN</td>\n",
       "      <td>S</td>\n",
       "    </tr>\n",
       "    <tr>\n",
       "      <th>3</th>\n",
       "      <td>4</td>\n",
       "      <td>1</td>\n",
       "      <td>1</td>\n",
       "      <td>Futrelle, Mrs. Jacques Heath (Lily May Peel)</td>\n",
       "      <td>female</td>\n",
       "      <td>35.0</td>\n",
       "      <td>1</td>\n",
       "      <td>0</td>\n",
       "      <td>113803</td>\n",
       "      <td>53.1000</td>\n",
       "      <td>C123</td>\n",
       "      <td>S</td>\n",
       "    </tr>\n",
       "    <tr>\n",
       "      <th>4</th>\n",
       "      <td>5</td>\n",
       "      <td>0</td>\n",
       "      <td>3</td>\n",
       "      <td>Allen, Mr. William Henry</td>\n",
       "      <td>male</td>\n",
       "      <td>35.0</td>\n",
       "      <td>0</td>\n",
       "      <td>0</td>\n",
       "      <td>373450</td>\n",
       "      <td>8.0500</td>\n",
       "      <td>NaN</td>\n",
       "      <td>S</td>\n",
       "    </tr>\n",
       "    <tr>\n",
       "      <th>5</th>\n",
       "      <td>6</td>\n",
       "      <td>0</td>\n",
       "      <td>3</td>\n",
       "      <td>Moran, Mr. James</td>\n",
       "      <td>male</td>\n",
       "      <td>NaN</td>\n",
       "      <td>0</td>\n",
       "      <td>0</td>\n",
       "      <td>330877</td>\n",
       "      <td>8.4583</td>\n",
       "      <td>NaN</td>\n",
       "      <td>Q</td>\n",
       "    </tr>\n",
       "    <tr>\n",
       "      <th>6</th>\n",
       "      <td>7</td>\n",
       "      <td>0</td>\n",
       "      <td>1</td>\n",
       "      <td>McCarthy, Mr. Timothy J</td>\n",
       "      <td>male</td>\n",
       "      <td>54.0</td>\n",
       "      <td>0</td>\n",
       "      <td>0</td>\n",
       "      <td>17463</td>\n",
       "      <td>51.8625</td>\n",
       "      <td>E46</td>\n",
       "      <td>S</td>\n",
       "    </tr>\n",
       "    <tr>\n",
       "      <th>7</th>\n",
       "      <td>8</td>\n",
       "      <td>0</td>\n",
       "      <td>3</td>\n",
       "      <td>Palsson, Master. Gosta Leonard</td>\n",
       "      <td>male</td>\n",
       "      <td>2.0</td>\n",
       "      <td>3</td>\n",
       "      <td>1</td>\n",
       "      <td>349909</td>\n",
       "      <td>21.0750</td>\n",
       "      <td>NaN</td>\n",
       "      <td>S</td>\n",
       "    </tr>\n",
       "    <tr>\n",
       "      <th>8</th>\n",
       "      <td>9</td>\n",
       "      <td>1</td>\n",
       "      <td>3</td>\n",
       "      <td>Johnson, Mrs. Oscar W (Elisabeth Vilhelmina Berg)</td>\n",
       "      <td>female</td>\n",
       "      <td>27.0</td>\n",
       "      <td>0</td>\n",
       "      <td>2</td>\n",
       "      <td>347742</td>\n",
       "      <td>11.1333</td>\n",
       "      <td>NaN</td>\n",
       "      <td>S</td>\n",
       "    </tr>\n",
       "    <tr>\n",
       "      <th>9</th>\n",
       "      <td>10</td>\n",
       "      <td>1</td>\n",
       "      <td>2</td>\n",
       "      <td>Nasser, Mrs. Nicholas (Adele Achem)</td>\n",
       "      <td>female</td>\n",
       "      <td>14.0</td>\n",
       "      <td>1</td>\n",
       "      <td>0</td>\n",
       "      <td>237736</td>\n",
       "      <td>30.0708</td>\n",
       "      <td>NaN</td>\n",
       "      <td>C</td>\n",
       "    </tr>\n",
       "  </tbody>\n",
       "</table>\n",
       "</div>"
      ],
      "text/plain": [
       "   PassengerId  Survived  Pclass  \\\n",
       "0            1         0       3   \n",
       "1            2         1       1   \n",
       "2            3         1       3   \n",
       "3            4         1       1   \n",
       "4            5         0       3   \n",
       "5            6         0       3   \n",
       "6            7         0       1   \n",
       "7            8         0       3   \n",
       "8            9         1       3   \n",
       "9           10         1       2   \n",
       "\n",
       "                                                Name     Sex   Age  SibSp  \\\n",
       "0                            Braund, Mr. Owen Harris    male  22.0      1   \n",
       "1  Cumings, Mrs. John Bradley (Florence Briggs Th...  female  38.0      1   \n",
       "2                             Heikkinen, Miss. Laina  female  26.0      0   \n",
       "3       Futrelle, Mrs. Jacques Heath (Lily May Peel)  female  35.0      1   \n",
       "4                           Allen, Mr. William Henry    male  35.0      0   \n",
       "5                                   Moran, Mr. James    male   NaN      0   \n",
       "6                            McCarthy, Mr. Timothy J    male  54.0      0   \n",
       "7                     Palsson, Master. Gosta Leonard    male   2.0      3   \n",
       "8  Johnson, Mrs. Oscar W (Elisabeth Vilhelmina Berg)  female  27.0      0   \n",
       "9                Nasser, Mrs. Nicholas (Adele Achem)  female  14.0      1   \n",
       "\n",
       "   Parch            Ticket     Fare Cabin Embarked  \n",
       "0      0         A/5 21171   7.2500   NaN        S  \n",
       "1      0          PC 17599  71.2833   C85        C  \n",
       "2      0  STON/O2. 3101282   7.9250   NaN        S  \n",
       "3      0            113803  53.1000  C123        S  \n",
       "4      0            373450   8.0500   NaN        S  \n",
       "5      0            330877   8.4583   NaN        Q  \n",
       "6      0             17463  51.8625   E46        S  \n",
       "7      1            349909  21.0750   NaN        S  \n",
       "8      2            347742  11.1333   NaN        S  \n",
       "9      0            237736  30.0708   NaN        C  "
      ]
     },
     "execution_count": 4,
     "metadata": {},
     "output_type": "execute_result"
    }
   ],
   "source": [
    "train.head(10)"
   ]
  },
  {
   "cell_type": "code",
   "execution_count": 5,
   "id": "2f3883d1",
   "metadata": {
    "execution": {
     "iopub.execute_input": "2024-08-15T15:00:56.027845Z",
     "iopub.status.busy": "2024-08-15T15:00:56.027435Z",
     "iopub.status.idle": "2024-08-15T15:00:56.037344Z",
     "shell.execute_reply": "2024-08-15T15:00:56.036237Z"
    },
    "papermill": {
     "duration": 0.031601,
     "end_time": "2024-08-15T15:00:56.039777",
     "exception": false,
     "start_time": "2024-08-15T15:00:56.008176",
     "status": "completed"
    },
    "tags": []
   },
   "outputs": [],
   "source": [
    "train['Sex'] = train['Sex'].replace({'male': 1, 'female': 2})\n",
    "test['Sex'] = test['Sex'].replace({'male': 1, 'female': 2})"
   ]
  },
  {
   "cell_type": "code",
   "execution_count": 6,
   "id": "5e874fb6",
   "metadata": {
    "execution": {
     "iopub.execute_input": "2024-08-15T15:00:56.077290Z",
     "iopub.status.busy": "2024-08-15T15:00:56.076910Z",
     "iopub.status.idle": "2024-08-15T15:00:56.081338Z",
     "shell.execute_reply": "2024-08-15T15:00:56.080340Z"
    },
    "papermill": {
     "duration": 0.025947,
     "end_time": "2024-08-15T15:00:56.083645",
     "exception": false,
     "start_time": "2024-08-15T15:00:56.057698",
     "status": "completed"
    },
    "tags": []
   },
   "outputs": [],
   "source": [
    "#train['Fare'] = train['Fare'].fillna(train['Fare'].median())\n",
    "\n",
    "#test['Fare'] = test['Fare'].fillna(test['Fare'].median())"
   ]
  },
  {
   "cell_type": "code",
   "execution_count": 7,
   "id": "8022851d",
   "metadata": {
    "execution": {
     "iopub.execute_input": "2024-08-15T15:00:56.121533Z",
     "iopub.status.busy": "2024-08-15T15:00:56.121099Z",
     "iopub.status.idle": "2024-08-15T15:00:56.137908Z",
     "shell.execute_reply": "2024-08-15T15:00:56.136767Z"
    },
    "papermill": {
     "duration": 0.038647,
     "end_time": "2024-08-15T15:00:56.140359",
     "exception": false,
     "start_time": "2024-08-15T15:00:56.101712",
     "status": "completed"
    },
    "tags": []
   },
   "outputs": [],
   "source": [
    "median_fare = test[(test['Pclass'] == 3) & (test['Embarked'] == 'S')]['Fare'].median()\n",
    "test[\"Fare\"] = test[\"Fare\"].fillna(median_fare)"
   ]
  },
  {
   "cell_type": "code",
   "execution_count": 8,
   "id": "d4b71d66",
   "metadata": {
    "execution": {
     "iopub.execute_input": "2024-08-15T15:00:56.178074Z",
     "iopub.status.busy": "2024-08-15T15:00:56.177664Z",
     "iopub.status.idle": "2024-08-15T15:00:56.185809Z",
     "shell.execute_reply": "2024-08-15T15:00:56.184865Z"
    },
    "papermill": {
     "duration": 0.029884,
     "end_time": "2024-08-15T15:00:56.188289",
     "exception": false,
     "start_time": "2024-08-15T15:00:56.158405",
     "status": "completed"
    },
    "tags": []
   },
   "outputs": [],
   "source": [
    "train['Age'] = train['Age'].fillna(train['Age'].median())\n",
    "test['Age'] = test['Age'].fillna(test['Age'].median())"
   ]
  },
  {
   "cell_type": "code",
   "execution_count": 9,
   "id": "33f3fb3a",
   "metadata": {
    "execution": {
     "iopub.execute_input": "2024-08-15T15:00:56.228276Z",
     "iopub.status.busy": "2024-08-15T15:00:56.227366Z",
     "iopub.status.idle": "2024-08-15T15:00:56.240876Z",
     "shell.execute_reply": "2024-08-15T15:00:56.239810Z"
    },
    "papermill": {
     "duration": 0.03705,
     "end_time": "2024-08-15T15:00:56.243346",
     "exception": false,
     "start_time": "2024-08-15T15:00:56.206296",
     "status": "completed"
    },
    "tags": []
   },
   "outputs": [
    {
     "data": {
      "text/plain": [
       "(PassengerId      0\n",
       " Survived         0\n",
       " Pclass           0\n",
       " Name             0\n",
       " Sex              0\n",
       " Age              0\n",
       " SibSp            0\n",
       " Parch            0\n",
       " Ticket           0\n",
       " Fare             0\n",
       " Cabin          687\n",
       " Embarked         0\n",
       " dtype: int64,\n",
       " PassengerId      0\n",
       " Pclass           0\n",
       " Name             0\n",
       " Sex              0\n",
       " Age              0\n",
       " SibSp            0\n",
       " Parch            0\n",
       " Ticket           0\n",
       " Fare             0\n",
       " Cabin          327\n",
       " Embarked         0\n",
       " dtype: int64)"
      ]
     },
     "execution_count": 9,
     "metadata": {},
     "output_type": "execute_result"
    }
   ],
   "source": [
    "train[\"Embarked\"] = train[\"Embarked\"].fillna(\"C\")\n",
    "train.isnull().sum() , test.isnull().sum()"
   ]
  },
  {
   "cell_type": "code",
   "execution_count": 10,
   "id": "c57d54fd",
   "metadata": {
    "execution": {
     "iopub.execute_input": "2024-08-15T15:00:56.281519Z",
     "iopub.status.busy": "2024-08-15T15:00:56.280803Z",
     "iopub.status.idle": "2024-08-15T15:00:56.288566Z",
     "shell.execute_reply": "2024-08-15T15:00:56.287420Z"
    },
    "papermill": {
     "duration": 0.029407,
     "end_time": "2024-08-15T15:00:56.291050",
     "exception": false,
     "start_time": "2024-08-15T15:00:56.261643",
     "status": "completed"
    },
    "tags": []
   },
   "outputs": [],
   "source": [
    "train['Cabin'] = train['Cabin'].str[0]\n",
    "\n",
    "test['Cabin'] = test['Cabin'].str[0]"
   ]
  },
  {
   "cell_type": "code",
   "execution_count": 11,
   "id": "cde3bbdf",
   "metadata": {
    "execution": {
     "iopub.execute_input": "2024-08-15T15:00:56.329465Z",
     "iopub.status.busy": "2024-08-15T15:00:56.329085Z",
     "iopub.status.idle": "2024-08-15T15:00:56.340362Z",
     "shell.execute_reply": "2024-08-15T15:00:56.339228Z"
    },
    "papermill": {
     "duration": 0.033229,
     "end_time": "2024-08-15T15:00:56.342696",
     "exception": false,
     "start_time": "2024-08-15T15:00:56.309467",
     "status": "completed"
    },
    "tags": []
   },
   "outputs": [],
   "source": [
    "train['Cabin'] = train['Cabin'].replace({'nan':0,'B': 1, 'C': 2, 'D': 3,'E':4,'A':8,'F':5,'G':6,'T':7})\n",
    "test['Cabin'] = test['Cabin'].replace({'nan':0,'B': 1, 'C': 2, 'D': 3,'E':4,'A':8,'F':5,'G':6,'T':7})"
   ]
  },
  {
   "cell_type": "code",
   "execution_count": 12,
   "id": "606286be",
   "metadata": {
    "execution": {
     "iopub.execute_input": "2024-08-15T15:00:56.381204Z",
     "iopub.status.busy": "2024-08-15T15:00:56.380427Z",
     "iopub.status.idle": "2024-08-15T15:00:56.388116Z",
     "shell.execute_reply": "2024-08-15T15:00:56.387287Z"
    },
    "papermill": {
     "duration": 0.029585,
     "end_time": "2024-08-15T15:00:56.390311",
     "exception": false,
     "start_time": "2024-08-15T15:00:56.360726",
     "status": "completed"
    },
    "tags": []
   },
   "outputs": [],
   "source": [
    "train['Cabin'] = train['Cabin'].fillna(train['Cabin'].median())\n",
    "test['Cabin'] = test['Cabin'].fillna(test['Cabin'].median())"
   ]
  },
  {
   "cell_type": "code",
   "execution_count": 13,
   "id": "22624ade",
   "metadata": {
    "execution": {
     "iopub.execute_input": "2024-08-15T15:00:56.427515Z",
     "iopub.status.busy": "2024-08-15T15:00:56.427112Z",
     "iopub.status.idle": "2024-08-15T15:00:56.436555Z",
     "shell.execute_reply": "2024-08-15T15:00:56.435480Z"
    },
    "papermill": {
     "duration": 0.030934,
     "end_time": "2024-08-15T15:00:56.438824",
     "exception": false,
     "start_time": "2024-08-15T15:00:56.407890",
     "status": "completed"
    },
    "tags": []
   },
   "outputs": [],
   "source": [
    "train['Embarked'] = train['Embarked'].replace({'Q':0,'S': 1, 'C': 2})\n",
    "test['Embarked'] = test['Embarked'].replace({'Q':0,'S': 1, 'C': 2})"
   ]
  },
  {
   "cell_type": "code",
   "execution_count": 14,
   "id": "deed761b",
   "metadata": {
    "execution": {
     "iopub.execute_input": "2024-08-15T15:00:56.476208Z",
     "iopub.status.busy": "2024-08-15T15:00:56.475812Z",
     "iopub.status.idle": "2024-08-15T15:00:56.487498Z",
     "shell.execute_reply": "2024-08-15T15:00:56.486461Z"
    },
    "papermill": {
     "duration": 0.03324,
     "end_time": "2024-08-15T15:00:56.489822",
     "exception": false,
     "start_time": "2024-08-15T15:00:56.456582",
     "status": "completed"
    },
    "tags": []
   },
   "outputs": [],
   "source": [
    "def get_prefix(ticket):\n",
    "    \"\"\"\n",
    "    check if the first part of the ticket (separated by a space) are letters\n",
    "    return only the letter or the information that the first part does not contain only letter\n",
    "    \"\"\"\n",
    "    lead = ticket.split(' ')[0][0]\n",
    "    if lead.isalpha():\n",
    "        return ticket.split(' ')[0]\n",
    "    else:\n",
    "        return 'NoPrefix'\n",
    "\n",
    "def ticket_features(df):\n",
    "    \"\"\"\n",
    "    Prefix: non numerical prefix of a ticket\n",
    "    TNlen: length of numeric ticket number\n",
    "    LeadingDigit: first digit of numeric ticket number\n",
    "    TGroup: numeric ticket number without the last digit\n",
    "    \"\"\"\n",
    "    df['Ticket'] = df['Ticket'].replace('LINE','LINE 0')\n",
    "    df['Ticket'] = df['Ticket'].apply(lambda x: x.replace('.','').replace('/','').lower())\n",
    "    df['Prefix'] = df['Ticket'].apply(lambda x: get_prefix(x))\n",
    "    df['TNumeric'] = df['Ticket'].apply(lambda x: int(x.split(' ')[-1]))\n",
    "    df['TNlen'] = df['TNumeric'].apply(lambda x : len(str(x)))\n",
    "    df['LeadingDigit'] = df['TNumeric'].apply(lambda x : int(str(x)[0]))\n",
    "    df['TGroup'] = df['TNumeric'].apply(lambda x: str(x//10))\n",
    "\n",
    "    df = df.drop(columns=['TNumeric'])\n",
    "\n",
    "    return df"
   ]
  },
  {
   "cell_type": "code",
   "execution_count": 15,
   "id": "fded8f0c",
   "metadata": {
    "execution": {
     "iopub.execute_input": "2024-08-15T15:00:56.527171Z",
     "iopub.status.busy": "2024-08-15T15:00:56.526791Z",
     "iopub.status.idle": "2024-08-15T15:00:56.548937Z",
     "shell.execute_reply": "2024-08-15T15:00:56.548029Z"
    },
    "papermill": {
     "duration": 0.04372,
     "end_time": "2024-08-15T15:00:56.551326",
     "exception": false,
     "start_time": "2024-08-15T15:00:56.507606",
     "status": "completed"
    },
    "tags": []
   },
   "outputs": [],
   "source": [
    "train = ticket_features(train)\n",
    "test = ticket_features(test)"
   ]
  },
  {
   "cell_type": "code",
   "execution_count": 16,
   "id": "8f49cf22",
   "metadata": {
    "execution": {
     "iopub.execute_input": "2024-08-15T15:00:56.589382Z",
     "iopub.status.busy": "2024-08-15T15:00:56.588184Z",
     "iopub.status.idle": "2024-08-15T15:00:56.607884Z",
     "shell.execute_reply": "2024-08-15T15:00:56.606777Z"
    },
    "papermill": {
     "duration": 0.041124,
     "end_time": "2024-08-15T15:00:56.610317",
     "exception": false,
     "start_time": "2024-08-15T15:00:56.569193",
     "status": "completed"
    },
    "tags": []
   },
   "outputs": [
    {
     "data": {
      "text/html": [
       "<div>\n",
       "<style scoped>\n",
       "    .dataframe tbody tr th:only-of-type {\n",
       "        vertical-align: middle;\n",
       "    }\n",
       "\n",
       "    .dataframe tbody tr th {\n",
       "        vertical-align: top;\n",
       "    }\n",
       "\n",
       "    .dataframe thead th {\n",
       "        text-align: right;\n",
       "    }\n",
       "</style>\n",
       "<table border=\"1\" class=\"dataframe\">\n",
       "  <thead>\n",
       "    <tr style=\"text-align: right;\">\n",
       "      <th></th>\n",
       "      <th>PassengerId</th>\n",
       "      <th>Survived</th>\n",
       "      <th>Pclass</th>\n",
       "      <th>Name</th>\n",
       "      <th>Sex</th>\n",
       "      <th>Age</th>\n",
       "      <th>SibSp</th>\n",
       "      <th>Parch</th>\n",
       "      <th>Ticket</th>\n",
       "      <th>Fare</th>\n",
       "      <th>Cabin</th>\n",
       "      <th>Embarked</th>\n",
       "      <th>Prefix</th>\n",
       "      <th>TNlen</th>\n",
       "      <th>LeadingDigit</th>\n",
       "      <th>TGroup</th>\n",
       "    </tr>\n",
       "  </thead>\n",
       "  <tbody>\n",
       "    <tr>\n",
       "      <th>0</th>\n",
       "      <td>1</td>\n",
       "      <td>0</td>\n",
       "      <td>3</td>\n",
       "      <td>Braund, Mr. Owen Harris</td>\n",
       "      <td>1</td>\n",
       "      <td>22.0</td>\n",
       "      <td>1</td>\n",
       "      <td>0</td>\n",
       "      <td>a5 21171</td>\n",
       "      <td>7.2500</td>\n",
       "      <td>2.0</td>\n",
       "      <td>1</td>\n",
       "      <td>a5</td>\n",
       "      <td>5</td>\n",
       "      <td>2</td>\n",
       "      <td>2117</td>\n",
       "    </tr>\n",
       "    <tr>\n",
       "      <th>1</th>\n",
       "      <td>2</td>\n",
       "      <td>1</td>\n",
       "      <td>1</td>\n",
       "      <td>Cumings, Mrs. John Bradley (Florence Briggs Th...</td>\n",
       "      <td>2</td>\n",
       "      <td>38.0</td>\n",
       "      <td>1</td>\n",
       "      <td>0</td>\n",
       "      <td>pc 17599</td>\n",
       "      <td>71.2833</td>\n",
       "      <td>2.0</td>\n",
       "      <td>2</td>\n",
       "      <td>pc</td>\n",
       "      <td>5</td>\n",
       "      <td>1</td>\n",
       "      <td>1759</td>\n",
       "    </tr>\n",
       "    <tr>\n",
       "      <th>2</th>\n",
       "      <td>3</td>\n",
       "      <td>1</td>\n",
       "      <td>3</td>\n",
       "      <td>Heikkinen, Miss. Laina</td>\n",
       "      <td>2</td>\n",
       "      <td>26.0</td>\n",
       "      <td>0</td>\n",
       "      <td>0</td>\n",
       "      <td>stono2 3101282</td>\n",
       "      <td>7.9250</td>\n",
       "      <td>2.0</td>\n",
       "      <td>1</td>\n",
       "      <td>stono2</td>\n",
       "      <td>7</td>\n",
       "      <td>3</td>\n",
       "      <td>310128</td>\n",
       "    </tr>\n",
       "    <tr>\n",
       "      <th>3</th>\n",
       "      <td>4</td>\n",
       "      <td>1</td>\n",
       "      <td>1</td>\n",
       "      <td>Futrelle, Mrs. Jacques Heath (Lily May Peel)</td>\n",
       "      <td>2</td>\n",
       "      <td>35.0</td>\n",
       "      <td>1</td>\n",
       "      <td>0</td>\n",
       "      <td>113803</td>\n",
       "      <td>53.1000</td>\n",
       "      <td>2.0</td>\n",
       "      <td>1</td>\n",
       "      <td>NoPrefix</td>\n",
       "      <td>6</td>\n",
       "      <td>1</td>\n",
       "      <td>11380</td>\n",
       "    </tr>\n",
       "    <tr>\n",
       "      <th>4</th>\n",
       "      <td>5</td>\n",
       "      <td>0</td>\n",
       "      <td>3</td>\n",
       "      <td>Allen, Mr. William Henry</td>\n",
       "      <td>1</td>\n",
       "      <td>35.0</td>\n",
       "      <td>0</td>\n",
       "      <td>0</td>\n",
       "      <td>373450</td>\n",
       "      <td>8.0500</td>\n",
       "      <td>2.0</td>\n",
       "      <td>1</td>\n",
       "      <td>NoPrefix</td>\n",
       "      <td>6</td>\n",
       "      <td>3</td>\n",
       "      <td>37345</td>\n",
       "    </tr>\n",
       "  </tbody>\n",
       "</table>\n",
       "</div>"
      ],
      "text/plain": [
       "   PassengerId  Survived  Pclass  \\\n",
       "0            1         0       3   \n",
       "1            2         1       1   \n",
       "2            3         1       3   \n",
       "3            4         1       1   \n",
       "4            5         0       3   \n",
       "\n",
       "                                                Name  Sex   Age  SibSp  Parch  \\\n",
       "0                            Braund, Mr. Owen Harris    1  22.0      1      0   \n",
       "1  Cumings, Mrs. John Bradley (Florence Briggs Th...    2  38.0      1      0   \n",
       "2                             Heikkinen, Miss. Laina    2  26.0      0      0   \n",
       "3       Futrelle, Mrs. Jacques Heath (Lily May Peel)    2  35.0      1      0   \n",
       "4                           Allen, Mr. William Henry    1  35.0      0      0   \n",
       "\n",
       "           Ticket     Fare  Cabin  Embarked    Prefix  TNlen  LeadingDigit  \\\n",
       "0        a5 21171   7.2500    2.0         1        a5      5             2   \n",
       "1        pc 17599  71.2833    2.0         2        pc      5             1   \n",
       "2  stono2 3101282   7.9250    2.0         1    stono2      7             3   \n",
       "3          113803  53.1000    2.0         1  NoPrefix      6             1   \n",
       "4          373450   8.0500    2.0         1  NoPrefix      6             3   \n",
       "\n",
       "   TGroup  \n",
       "0    2117  \n",
       "1    1759  \n",
       "2  310128  \n",
       "3   11380  \n",
       "4   37345  "
      ]
     },
     "execution_count": 16,
     "metadata": {},
     "output_type": "execute_result"
    }
   ],
   "source": [
    "train.head() "
   ]
  },
  {
   "cell_type": "code",
   "execution_count": 17,
   "id": "149c9704",
   "metadata": {
    "execution": {
     "iopub.execute_input": "2024-08-15T15:00:56.648898Z",
     "iopub.status.busy": "2024-08-15T15:00:56.648431Z",
     "iopub.status.idle": "2024-08-15T15:00:56.658965Z",
     "shell.execute_reply": "2024-08-15T15:00:56.657853Z"
    },
    "papermill": {
     "duration": 0.032569,
     "end_time": "2024-08-15T15:00:56.661403",
     "exception": false,
     "start_time": "2024-08-15T15:00:56.628834",
     "status": "completed"
    },
    "tags": []
   },
   "outputs": [],
   "source": [
    "def age_category(row):\n",
    "    \"\"\"\n",
    "    Function to transform the actual age in to an age category\n",
    "    Thresholds are deduced from the distribution plot of age\n",
    "    \"\"\"\n",
    "    if row < 12:\n",
    "        return 'children'\n",
    "    if (row >= 12) & (row < 60):\n",
    "        return 'adult'\n",
    "    if row >= 60:\n",
    "        return 'senior'\n",
    "    else:\n",
    "        return 'no age'\n",
    "\n",
    "# apply the function age_category to each row of the dataset\n",
    "train['Age_category'] = train['Age'].apply(lambda row: age_category(row))\n",
    "\n",
    "test['Age_category'] = test['Age'].apply(lambda row: age_category(row))\n",
    "\n"
   ]
  },
  {
   "cell_type": "code",
   "execution_count": 18,
   "id": "9b09ce2f",
   "metadata": {
    "execution": {
     "iopub.execute_input": "2024-08-15T15:00:56.700210Z",
     "iopub.status.busy": "2024-08-15T15:00:56.699463Z",
     "iopub.status.idle": "2024-08-15T15:00:56.720457Z",
     "shell.execute_reply": "2024-08-15T15:00:56.719337Z"
    },
    "papermill": {
     "duration": 0.043168,
     "end_time": "2024-08-15T15:00:56.723016",
     "exception": false,
     "start_time": "2024-08-15T15:00:56.679848",
     "status": "completed"
    },
    "tags": []
   },
   "outputs": [
    {
     "data": {
      "text/plain": [
       "(   PassengerId  Survived  Pclass  \\\n",
       " 0            1         0       3   \n",
       " 1            2         1       1   \n",
       " 2            3         1       3   \n",
       " 3            4         1       1   \n",
       " 4            5         0       3   \n",
       " 5            6         0       3   \n",
       " 6            7         0       1   \n",
       " 7            8         0       3   \n",
       " 8            9         1       3   \n",
       " 9           10         1       2   \n",
       " \n",
       "                                                 Name  Sex   Age  SibSp  Parch  \\\n",
       " 0                            Braund, Mr. Owen Harris    1  22.0      1      0   \n",
       " 1  Cumings, Mrs. John Bradley (Florence Briggs Th...    2  38.0      1      0   \n",
       " 2                             Heikkinen, Miss. Laina    2  26.0      0      0   \n",
       " 3       Futrelle, Mrs. Jacques Heath (Lily May Peel)    2  35.0      1      0   \n",
       " 4                           Allen, Mr. William Henry    1  35.0      0      0   \n",
       " 5                                   Moran, Mr. James    1  28.0      0      0   \n",
       " 6                            McCarthy, Mr. Timothy J    1  54.0      0      0   \n",
       " 7                     Palsson, Master. Gosta Leonard    1   2.0      3      1   \n",
       " 8  Johnson, Mrs. Oscar W (Elisabeth Vilhelmina Berg)    2  27.0      0      2   \n",
       " 9                Nasser, Mrs. Nicholas (Adele Achem)    2  14.0      1      0   \n",
       " \n",
       "            Ticket     Fare  Cabin  Embarked    Prefix  TNlen  LeadingDigit  \\\n",
       " 0        a5 21171   7.2500    2.0         1        a5      5             2   \n",
       " 1        pc 17599  71.2833    2.0         2        pc      5             1   \n",
       " 2  stono2 3101282   7.9250    2.0         1    stono2      7             3   \n",
       " 3          113803  53.1000    2.0         1  NoPrefix      6             1   \n",
       " 4          373450   8.0500    2.0         1  NoPrefix      6             3   \n",
       " 5          330877   8.4583    2.0         0  NoPrefix      6             3   \n",
       " 6           17463  51.8625    4.0         1  NoPrefix      5             1   \n",
       " 7          349909  21.0750    2.0         1  NoPrefix      6             3   \n",
       " 8          347742  11.1333    2.0         1  NoPrefix      6             3   \n",
       " 9          237736  30.0708    2.0         2  NoPrefix      6             2   \n",
       " \n",
       "    TGroup Age_category  \n",
       " 0    2117        adult  \n",
       " 1    1759        adult  \n",
       " 2  310128        adult  \n",
       " 3   11380        adult  \n",
       " 4   37345        adult  \n",
       " 5   33087        adult  \n",
       " 6    1746        adult  \n",
       " 7   34990     children  \n",
       " 8   34774        adult  \n",
       " 9   23773        adult  ,\n",
       "    PassengerId  Pclass                                          Name  Sex  \\\n",
       " 0          892       3                              Kelly, Mr. James    1   \n",
       " 1          893       3              Wilkes, Mrs. James (Ellen Needs)    2   \n",
       " 2          894       2                     Myles, Mr. Thomas Francis    1   \n",
       " 3          895       3                              Wirz, Mr. Albert    1   \n",
       " 4          896       3  Hirvonen, Mrs. Alexander (Helga E Lindqvist)    2   \n",
       " \n",
       "     Age  SibSp  Parch   Ticket     Fare  Cabin  Embarked    Prefix  TNlen  \\\n",
       " 0  34.5      0      0   330911   7.8292    2.0         0  NoPrefix      6   \n",
       " 1  47.0      1      0   363272   7.0000    2.0         1  NoPrefix      6   \n",
       " 2  62.0      0      0   240276   9.6875    2.0         0  NoPrefix      6   \n",
       " 3  27.0      0      0   315154   8.6625    2.0         1  NoPrefix      6   \n",
       " 4  22.0      1      1  3101298  12.2875    2.0         1  NoPrefix      7   \n",
       " \n",
       "    LeadingDigit  TGroup Age_category  \n",
       " 0             3   33091        adult  \n",
       " 1             3   36327        adult  \n",
       " 2             2   24027       senior  \n",
       " 3             3   31515        adult  \n",
       " 4             3  310129        adult  )"
      ]
     },
     "execution_count": 18,
     "metadata": {},
     "output_type": "execute_result"
    }
   ],
   "source": [
    "train.head(10) , test.head()"
   ]
  },
  {
   "cell_type": "code",
   "execution_count": 19,
   "id": "24b80117",
   "metadata": {
    "execution": {
     "iopub.execute_input": "2024-08-15T15:00:56.762370Z",
     "iopub.status.busy": "2024-08-15T15:00:56.761458Z",
     "iopub.status.idle": "2024-08-15T15:00:57.874659Z",
     "shell.execute_reply": "2024-08-15T15:00:57.873594Z"
    },
    "papermill": {
     "duration": 1.135449,
     "end_time": "2024-08-15T15:00:57.877142",
     "exception": false,
     "start_time": "2024-08-15T15:00:56.741693",
     "status": "completed"
    },
    "tags": []
   },
   "outputs": [
    {
     "data": {
      "image/png": "[encoded data removed]",
      "text/plain": [
       "<Figure size 500x500 with 1 Axes>"
      ]
     },
     "metadata": {},
     "output_type": "display_data"
    },
    {
     "data": {
      "image/png": "[encoded data removed]",
      "text/plain": [
       "<Figure size 500x500 with 1 Axes>"
      ]
     },
     "metadata": {},
     "output_type": "display_data"
    }
   ],
   "source": [
    "for feature in ['Fare']:\n",
    "    \n",
    "    # view the distribution of Fare after the log transformation with the skewness\n",
    "    df_merge = pd.concat([train, test])\n",
    "    g = sns.displot(df_merge[feature])\n",
    "    plt.title(\"Skewness : %.2f\"%(df_merge[feature].skew()))\n",
    "    plt.show()\n",
    "    \n",
    "    train[feature] = train[feature].apply(np.log)\n",
    "    test[feature] = test[feature].apply(np.log)\n",
    "\n",
    "    # the not transformed data that contains 0\n",
    "    # after the transformation we have -inf values that have to be replaced by 0\n",
    "    train[feature][np.isneginf(train[feature])]=0\n",
    "    test[feature][np.isneginf(test[feature])]=0\n",
    "\n",
    "    # view the distribution of Fare after the log transformation with the skewness\n",
    "    merge = pd.concat([train, test])\n",
    "    g = sns.displot(merge[feature])\n",
    "    plt.title(\"Skewness : %.2f\"%(merge[feature].skew()))\n",
    "    plt.show()"
   ]
  },
  {
   "cell_type": "code",
   "execution_count": 20,
   "id": "b649ae49",
   "metadata": {
    "execution": {
     "iopub.execute_input": "2024-08-15T15:00:57.918380Z",
     "iopub.status.busy": "2024-08-15T15:00:57.917945Z",
     "iopub.status.idle": "2024-08-15T15:00:57.937792Z",
     "shell.execute_reply": "2024-08-15T15:00:57.936702Z"
    },
    "papermill": {
     "duration": 0.044229,
     "end_time": "2024-08-15T15:00:57.940944",
     "exception": false,
     "start_time": "2024-08-15T15:00:57.896715",
     "status": "completed"
    },
    "tags": []
   },
   "outputs": [
    {
     "data": {
      "text/plain": [
       "(   PassengerId  Survived  Pclass  \\\n",
       " 0            1         0       3   \n",
       " 1            2         1       1   \n",
       " 2            3         1       3   \n",
       " 3            4         1       1   \n",
       " 4            5         0       3   \n",
       " \n",
       "                                                 Name  Sex   Age  SibSp  Parch  \\\n",
       " 0                            Braund, Mr. Owen Harris    1  22.0      1      0   \n",
       " 1  Cumings, Mrs. John Bradley (Florence Briggs Th...    2  38.0      1      0   \n",
       " 2                             Heikkinen, Miss. Laina    2  26.0      0      0   \n",
       " 3       Futrelle, Mrs. Jacques Heath (Lily May Peel)    2  35.0      1      0   \n",
       " 4                           Allen, Mr. William Henry    1  35.0      0      0   \n",
       " \n",
       "            Ticket      Fare  Cabin  Embarked    Prefix  TNlen  LeadingDigit  \\\n",
       " 0        a5 21171  1.981001    2.0         1        a5      5             2   \n",
       " 1        pc 17599  4.266662    2.0         2        pc      5             1   \n",
       " 2  stono2 3101282  2.070022    2.0         1    stono2      7             3   \n",
       " 3          113803  3.972177    2.0         1  NoPrefix      6             1   \n",
       " 4          373450  2.085672    2.0         1  NoPrefix      6             3   \n",
       " \n",
       "    TGroup Age_category  \n",
       " 0    2117        adult  \n",
       " 1    1759        adult  \n",
       " 2  310128        adult  \n",
       " 3   11380        adult  \n",
       " 4   37345        adult  ,\n",
       "    PassengerId  Pclass                                          Name  Sex  \\\n",
       " 0          892       3                              Kelly, Mr. James    1   \n",
       " 1          893       3              Wilkes, Mrs. James (Ellen Needs)    2   \n",
       " 2          894       2                     Myles, Mr. Thomas Francis    1   \n",
       " 3          895       3                              Wirz, Mr. Albert    1   \n",
       " 4          896       3  Hirvonen, Mrs. Alexander (Helga E Lindqvist)    2   \n",
       " \n",
       "     Age  SibSp  Parch   Ticket      Fare  Cabin  Embarked    Prefix  TNlen  \\\n",
       " 0  34.5      0      0   330911  2.057860    2.0         0  NoPrefix      6   \n",
       " 1  47.0      1      0   363272  1.945910    2.0         1  NoPrefix      6   \n",
       " 2  62.0      0      0   240276  2.270836    2.0         0  NoPrefix      6   \n",
       " 3  27.0      0      0   315154  2.159003    2.0         1  NoPrefix      6   \n",
       " 4  22.0      1      1  3101298  2.508582    2.0         1  NoPrefix      7   \n",
       " \n",
       "    LeadingDigit  TGroup Age_category  \n",
       " 0             3   33091        adult  \n",
       " 1             3   36327        adult  \n",
       " 2             2   24027       senior  \n",
       " 3             3   31515        adult  \n",
       " 4             3  310129        adult  )"
      ]
     },
     "execution_count": 20,
     "metadata": {},
     "output_type": "execute_result"
    }
   ],
   "source": [
    "train.head() , test.head()"
   ]
  },
  {
   "cell_type": "code",
   "execution_count": 21,
   "id": "02ce44c6",
   "metadata": {
    "execution": {
     "iopub.execute_input": "2024-08-15T15:00:57.981925Z",
     "iopub.status.busy": "2024-08-15T15:00:57.981557Z",
     "iopub.status.idle": "2024-08-15T15:00:57.999964Z",
     "shell.execute_reply": "2024-08-15T15:00:57.998871Z"
    },
    "papermill": {
     "duration": 0.041451,
     "end_time": "2024-08-15T15:00:58.002276",
     "exception": false,
     "start_time": "2024-08-15T15:00:57.960825",
     "status": "completed"
    },
    "tags": []
   },
   "outputs": [],
   "source": [
    "def get_name_information(df):\n",
    "    \"\"\"\n",
    "    extract the title, first name and last name from the name feature\n",
    "    \"\"\"\n",
    "    df[['Last','First']] = df['Name'].str.split(\",\" ,n=1, expand=True)\n",
    "    df[['Title','First']] = df['First'].str.split(\".\", n=1, expand=True)\n",
    "\n",
    "    # remove the whitespace from the title\n",
    "    df['Title'] = df['Title'].str.replace(' ', '')\n",
    "\n",
    "    return df\n",
    "\n",
    "train = get_name_information(train)\n",
    "\n",
    "test = get_name_information(test)"
   ]
  },
  {
   "cell_type": "code",
   "execution_count": 22,
   "id": "a237692d",
   "metadata": {
    "execution": {
     "iopub.execute_input": "2024-08-15T15:00:58.100250Z",
     "iopub.status.busy": "2024-08-15T15:00:58.099392Z",
     "iopub.status.idle": "2024-08-15T15:00:58.109388Z",
     "shell.execute_reply": "2024-08-15T15:00:58.108313Z"
    },
    "papermill": {
     "duration": 0.033483,
     "end_time": "2024-08-15T15:00:58.111801",
     "exception": false,
     "start_time": "2024-08-15T15:00:58.078318",
     "status": "completed"
    },
    "tags": []
   },
   "outputs": [],
   "source": [
    "def rename_title(df):\n",
    "    df.loc[df[\"Title\"] == \"Dr\", \"Title\"] = 'Rare Title'\n",
    "    df.loc[df[\"Title\"] == \"Rev\", \"Title\"] = 'Rare Title'\n",
    "    df.loc[df[\"Title\"] == \"Col\", \"Title\"] = 'Rare Title'\n",
    "    df.loc[df[\"Title\"] == \"Ms\", \"Title\"] = 'Miss'\n",
    "    df.loc[df[\"Title\"] == \"Major\", \"Title\"] = 'Rare Title'\n",
    "    df.loc[df[\"Title\"] == \"Mlle\", \"Title\"] = 'Miss'\n",
    "    df.loc[df[\"Title\"] == \"Mme\", \"Title\"] = 'Mrs'\n",
    "    df.loc[df[\"Title\"] == \"Jonkheer\", \"Title\"] = 'Rare Title'\n",
    "    df.loc[df[\"Title\"] == \"Lady\", \"Title\"] = 'Rare Title'\n",
    "    df.loc[df[\"Title\"] == \"theCountess\", \"Title\"] = 'Rare Title'\n",
    "    df.loc[df[\"Title\"] == \"Capt\", \"Title\"] = 'Rare Title'\n",
    "    df.loc[df[\"Title\"] == \"Don\", \"Title\"] = 'Rare Title'\n",
    "    df.loc[df[\"Title\"] == \"Sir\", \"Title\"] = 'Rare Title'\n",
    "    df.loc[df[\"Title\"] == \"Dona\", \"Title\"] = 'Rare Title'\n",
    "    return df\n"
   ]
  },
  {
   "cell_type": "code",
   "execution_count": 23,
   "id": "a504a056",
   "metadata": {
    "execution": {
     "iopub.execute_input": "2024-08-15T15:00:58.152908Z",
     "iopub.status.busy": "2024-08-15T15:00:58.152493Z",
     "iopub.status.idle": "2024-08-15T15:00:58.178684Z",
     "shell.execute_reply": "2024-08-15T15:00:58.177317Z"
    },
    "papermill": {
     "duration": 0.049936,
     "end_time": "2024-08-15T15:00:58.181401",
     "exception": false,
     "start_time": "2024-08-15T15:00:58.131465",
     "status": "completed"
    },
    "tags": []
   },
   "outputs": [],
   "source": [
    "# apply the title rename function to the training and test set\n",
    "train = rename_title(train)\n",
    "\n",
    "test = rename_title(test)"
   ]
  },
  {
   "cell_type": "code",
   "execution_count": 24,
   "id": "c19a1dd4",
   "metadata": {
    "execution": {
     "iopub.execute_input": "2024-08-15T15:00:58.236621Z",
     "iopub.status.busy": "2024-08-15T15:00:58.235220Z",
     "iopub.status.idle": "2024-08-15T15:00:58.258229Z",
     "shell.execute_reply": "2024-08-15T15:00:58.257233Z"
    },
    "papermill": {
     "duration": 0.053126,
     "end_time": "2024-08-15T15:00:58.260419",
     "exception": false,
     "start_time": "2024-08-15T15:00:58.207293",
     "status": "completed"
    },
    "tags": []
   },
   "outputs": [
    {
     "data": {
      "text/plain": [
       "(   PassengerId  Survived  Pclass  \\\n",
       " 0            1         0       3   \n",
       " 1            2         1       1   \n",
       " 2            3         1       3   \n",
       " 3            4         1       1   \n",
       " 4            5         0       3   \n",
       " \n",
       "                                                 Name  Sex   Age  SibSp  Parch  \\\n",
       " 0                            Braund, Mr. Owen Harris    1  22.0      1      0   \n",
       " 1  Cumings, Mrs. John Bradley (Florence Briggs Th...    2  38.0      1      0   \n",
       " 2                             Heikkinen, Miss. Laina    2  26.0      0      0   \n",
       " 3       Futrelle, Mrs. Jacques Heath (Lily May Peel)    2  35.0      1      0   \n",
       " 4                           Allen, Mr. William Henry    1  35.0      0      0   \n",
       " \n",
       "            Ticket      Fare  Cabin  Embarked    Prefix  TNlen  LeadingDigit  \\\n",
       " 0        a5 21171  1.981001    2.0         1        a5      5             2   \n",
       " 1        pc 17599  4.266662    2.0         2        pc      5             1   \n",
       " 2  stono2 3101282  2.070022    2.0         1    stono2      7             3   \n",
       " 3          113803  3.972177    2.0         1  NoPrefix      6             1   \n",
       " 4          373450  2.085672    2.0         1  NoPrefix      6             3   \n",
       " \n",
       "    TGroup Age_category       Last                                   First  \\\n",
       " 0    2117        adult     Braund                             Owen Harris   \n",
       " 1    1759        adult    Cumings   John Bradley (Florence Briggs Thayer)   \n",
       " 2  310128        adult  Heikkinen                                   Laina   \n",
       " 3   11380        adult   Futrelle           Jacques Heath (Lily May Peel)   \n",
       " 4   37345        adult      Allen                           William Henry   \n",
       " \n",
       "   Title  \n",
       " 0    Mr  \n",
       " 1   Mrs  \n",
       " 2  Miss  \n",
       " 3   Mrs  \n",
       " 4    Mr  ,\n",
       "    PassengerId  Pclass                                          Name  Sex  \\\n",
       " 0          892       3                              Kelly, Mr. James    1   \n",
       " 1          893       3              Wilkes, Mrs. James (Ellen Needs)    2   \n",
       " 2          894       2                     Myles, Mr. Thomas Francis    1   \n",
       " 3          895       3                              Wirz, Mr. Albert    1   \n",
       " 4          896       3  Hirvonen, Mrs. Alexander (Helga E Lindqvist)    2   \n",
       " \n",
       "     Age  SibSp  Parch   Ticket      Fare  Cabin  Embarked    Prefix  TNlen  \\\n",
       " 0  34.5      0      0   330911  2.057860    2.0         0  NoPrefix      6   \n",
       " 1  47.0      1      0   363272  1.945910    2.0         1  NoPrefix      6   \n",
       " 2  62.0      0      0   240276  2.270836    2.0         0  NoPrefix      6   \n",
       " 3  27.0      0      0   315154  2.159003    2.0         1  NoPrefix      6   \n",
       " 4  22.0      1      1  3101298  2.508582    2.0         1  NoPrefix      7   \n",
       " \n",
       "    LeadingDigit  TGroup Age_category      Last  \\\n",
       " 0             3   33091        adult     Kelly   \n",
       " 1             3   36327        adult    Wilkes   \n",
       " 2             2   24027       senior     Myles   \n",
       " 3             3   31515        adult      Wirz   \n",
       " 4             3  310129        adult  Hirvonen   \n",
       " \n",
       "                             First Title  \n",
       " 0                           James    Mr  \n",
       " 1             James (Ellen Needs)   Mrs  \n",
       " 2                  Thomas Francis    Mr  \n",
       " 3                          Albert    Mr  \n",
       " 4   Alexander (Helga E Lindqvist)   Mrs  )"
      ]
     },
     "execution_count": 24,
     "metadata": {},
     "output_type": "execute_result"
    }
   ],
   "source": [
    "train.head() ,test.head()"
   ]
  },
  {
   "cell_type": "code",
   "execution_count": 25,
   "id": "f7acac75",
   "metadata": {
    "execution": {
     "iopub.execute_input": "2024-08-15T15:00:58.301199Z",
     "iopub.status.busy": "2024-08-15T15:00:58.300821Z",
     "iopub.status.idle": "2024-08-15T15:00:58.349470Z",
     "shell.execute_reply": "2024-08-15T15:00:58.346578Z"
    },
    "papermill": {
     "duration": 0.072847,
     "end_time": "2024-08-15T15:00:58.352851",
     "exception": false,
     "start_time": "2024-08-15T15:00:58.280004",
     "status": "completed"
    },
    "tags": []
   },
   "outputs": [
    {
     "data": {
      "text/html": [
       "<div>\n",
       "<style scoped>\n",
       "    .dataframe tbody tr th:only-of-type {\n",
       "        vertical-align: middle;\n",
       "    }\n",
       "\n",
       "    .dataframe tbody tr th {\n",
       "        vertical-align: top;\n",
       "    }\n",
       "\n",
       "    .dataframe thead th {\n",
       "        text-align: right;\n",
       "    }\n",
       "</style>\n",
       "<table border=\"1\" class=\"dataframe\">\n",
       "  <thead>\n",
       "    <tr style=\"text-align: right;\">\n",
       "      <th></th>\n",
       "      <th>skewness</th>\n",
       "      <th>unique_values</th>\n",
       "    </tr>\n",
       "  </thead>\n",
       "  <tbody>\n",
       "    <tr>\n",
       "      <th>SibSp</th>\n",
       "      <td>3.839814</td>\n",
       "      <td>7</td>\n",
       "    </tr>\n",
       "    <tr>\n",
       "      <th>Parch</th>\n",
       "      <td>3.664872</td>\n",
       "      <td>8</td>\n",
       "    </tr>\n",
       "    <tr>\n",
       "      <th>Cabin</th>\n",
       "      <td>4.027587</td>\n",
       "      <td>8</td>\n",
       "    </tr>\n",
       "    <tr>\n",
       "      <th>LeadingDigit</th>\n",
       "      <td>1.725896</td>\n",
       "      <td>10</td>\n",
       "    </tr>\n",
       "  </tbody>\n",
       "</table>\n",
       "</div>"
      ],
      "text/plain": [
       "              skewness  unique_values\n",
       "SibSp         3.839814              7\n",
       "Parch         3.664872              8\n",
       "Cabin         4.027587              8\n",
       "LeadingDigit  1.725896             10"
      ]
     },
     "execution_count": 25,
     "metadata": {},
     "output_type": "execute_result"
    }
   ],
   "source": [
    "from scipy.stats import skew\n",
    "def compute_skewed_features(df):\n",
    "    \"\"\"\n",
    "    compute the skewness of all numeric features and the total number of unique values\n",
    "    return only the features that have a relevant skewness\n",
    "    \"\"\"\n",
    "    numeric_feats = df.dtypes[df.dtypes != \"object\"].index\n",
    "    skewed_feats = pd.DataFrame(index=numeric_feats, columns=['skewness', 'unique_values'])\n",
    "    skewed_feats['skewness'] = df[numeric_feats].apply(lambda x: skew(x))\n",
    "    skewed_feats['unique_values'] = df.nunique()\n",
    "    skewed_feats = skewed_feats[(skewed_feats['skewness'] > 1) | (skewed_feats['skewness'] < -1)]\n",
    "\n",
    "    return skewed_feats\n",
    "\n",
    "# combine the training and test dataset\n",
    "df_merge = pd.concat([train, test])\n",
    "skewed_feats = compute_skewed_features(df_merge)\n",
    "\n",
    "skewed_feats"
   ]
  },
  {
   "cell_type": "code",
   "execution_count": 26,
   "id": "61ba3396",
   "metadata": {
    "execution": {
     "iopub.execute_input": "2024-08-15T15:00:58.411578Z",
     "iopub.status.busy": "2024-08-15T15:00:58.411194Z",
     "iopub.status.idle": "2024-08-15T15:00:58.438181Z",
     "shell.execute_reply": "2024-08-15T15:00:58.436874Z"
    },
    "papermill": {
     "duration": 0.057075,
     "end_time": "2024-08-15T15:00:58.440599",
     "exception": false,
     "start_time": "2024-08-15T15:00:58.383524",
     "status": "completed"
    },
    "tags": []
   },
   "outputs": [
    {
     "data": {
      "text/plain": [
       "(   PassengerId  Survived  Pclass  \\\n",
       " 0            1         0       3   \n",
       " 1            2         1       1   \n",
       " 2            3         1       3   \n",
       " 3            4         1       1   \n",
       " 4            5         0       3   \n",
       " \n",
       "                                                 Name  Sex   Age  SibSp  Parch  \\\n",
       " 0                            Braund, Mr. Owen Harris    1  22.0      1      0   \n",
       " 1  Cumings, Mrs. John Bradley (Florence Briggs Th...    2  38.0      1      0   \n",
       " 2                             Heikkinen, Miss. Laina    2  26.0      0      0   \n",
       " 3       Futrelle, Mrs. Jacques Heath (Lily May Peel)    2  35.0      1      0   \n",
       " 4                           Allen, Mr. William Henry    1  35.0      0      0   \n",
       " \n",
       "            Ticket      Fare  Cabin  Embarked    Prefix  TNlen  LeadingDigit  \\\n",
       " 0        a5 21171  1.981001    2.0         1        a5      5             2   \n",
       " 1        pc 17599  4.266662    2.0         2        pc      5             1   \n",
       " 2  stono2 3101282  2.070022    2.0         1    stono2      7             3   \n",
       " 3          113803  3.972177    2.0         1  NoPrefix      6             1   \n",
       " 4          373450  2.085672    2.0         1  NoPrefix      6             3   \n",
       " \n",
       "    TGroup Age_category       Last                                   First  \\\n",
       " 0    2117        adult     Braund                             Owen Harris   \n",
       " 1    1759        adult    Cumings   John Bradley (Florence Briggs Thayer)   \n",
       " 2  310128        adult  Heikkinen                                   Laina   \n",
       " 3   11380        adult   Futrelle           Jacques Heath (Lily May Peel)   \n",
       " 4   37345        adult      Allen                           William Henry   \n",
       " \n",
       "   Title  \n",
       " 0    Mr  \n",
       " 1   Mrs  \n",
       " 2  Miss  \n",
       " 3   Mrs  \n",
       " 4    Mr  ,\n",
       "    PassengerId  Pclass                                          Name  Sex  \\\n",
       " 0          892       3                              Kelly, Mr. James    1   \n",
       " 1          893       3              Wilkes, Mrs. James (Ellen Needs)    2   \n",
       " 2          894       2                     Myles, Mr. Thomas Francis    1   \n",
       " 3          895       3                              Wirz, Mr. Albert    1   \n",
       " 4          896       3  Hirvonen, Mrs. Alexander (Helga E Lindqvist)    2   \n",
       " \n",
       "     Age  SibSp  Parch   Ticket      Fare  Cabin  Embarked    Prefix  TNlen  \\\n",
       " 0  34.5      0      0   330911  2.057860    2.0         0  NoPrefix      6   \n",
       " 1  47.0      1      0   363272  1.945910    2.0         1  NoPrefix      6   \n",
       " 2  62.0      0      0   240276  2.270836    2.0         0  NoPrefix      6   \n",
       " 3  27.0      0      0   315154  2.159003    2.0         1  NoPrefix      6   \n",
       " 4  22.0      1      1  3101298  2.508582    2.0         1  NoPrefix      7   \n",
       " \n",
       "    LeadingDigit  TGroup Age_category      Last  \\\n",
       " 0             3   33091        adult     Kelly   \n",
       " 1             3   36327        adult    Wilkes   \n",
       " 2             2   24027       senior     Myles   \n",
       " 3             3   31515        adult      Wirz   \n",
       " 4             3  310129        adult  Hirvonen   \n",
       " \n",
       "                             First Title  \n",
       " 0                           James    Mr  \n",
       " 1             James (Ellen Needs)   Mrs  \n",
       " 2                  Thomas Francis    Mr  \n",
       " 3                          Albert    Mr  \n",
       " 4   Alexander (Helga E Lindqvist)   Mrs  )"
      ]
     },
     "execution_count": 26,
     "metadata": {},
     "output_type": "execute_result"
    }
   ],
   "source": [
    "train.head() , test.head()"
   ]
  },
  {
   "cell_type": "code",
   "execution_count": 27,
   "id": "fbfccba7",
   "metadata": {
    "execution": {
     "iopub.execute_input": "2024-08-15T15:00:58.483195Z",
     "iopub.status.busy": "2024-08-15T15:00:58.482511Z",
     "iopub.status.idle": "2024-08-15T15:00:58.489871Z",
     "shell.execute_reply": "2024-08-15T15:00:58.488817Z"
    },
    "papermill": {
     "duration": 0.03121,
     "end_time": "2024-08-15T15:00:58.492070",
     "exception": false,
     "start_time": "2024-08-15T15:00:58.460860",
     "status": "completed"
    },
    "tags": []
   },
   "outputs": [],
   "source": [
    "del train['TGroup']\n",
    "del test['TGroup']\n",
    "del train['Prefix']\n",
    "del test['Prefix']"
   ]
  },
  {
   "cell_type": "code",
   "execution_count": 28,
   "id": "b8bc4340",
   "metadata": {
    "execution": {
     "iopub.execute_input": "2024-08-15T15:00:58.547423Z",
     "iopub.status.busy": "2024-08-15T15:00:58.546996Z",
     "iopub.status.idle": "2024-08-15T15:00:58.554279Z",
     "shell.execute_reply": "2024-08-15T15:00:58.553249Z"
    },
    "papermill": {
     "duration": 0.039094,
     "end_time": "2024-08-15T15:00:58.556683",
     "exception": false,
     "start_time": "2024-08-15T15:00:58.517589",
     "status": "completed"
    },
    "tags": []
   },
   "outputs": [],
   "source": [
    "del train['First']\n",
    "del test['First']\n",
    "del train['Last']\n",
    "del test['Last']"
   ]
  },
  {
   "cell_type": "code",
   "execution_count": 29,
   "id": "4c94bb41",
   "metadata": {
    "execution": {
     "iopub.execute_input": "2024-08-15T15:00:58.602456Z",
     "iopub.status.busy": "2024-08-15T15:00:58.601612Z",
     "iopub.status.idle": "2024-08-15T15:00:58.611593Z",
     "shell.execute_reply": "2024-08-15T15:00:58.610583Z"
    },
    "papermill": {
     "duration": 0.035045,
     "end_time": "2024-08-15T15:00:58.614560",
     "exception": false,
     "start_time": "2024-08-15T15:00:58.579515",
     "status": "completed"
    },
    "tags": []
   },
   "outputs": [
    {
     "data": {
      "text/plain": [
       "Age_category\n",
       "adult       797\n",
       "children     68\n",
       "senior       26\n",
       "Name: count, dtype: int64"
      ]
     },
     "execution_count": 29,
     "metadata": {},
     "output_type": "execute_result"
    }
   ],
   "source": [
    "train['Age_category'].value_counts()"
   ]
  },
  {
   "cell_type": "code",
   "execution_count": 30,
   "id": "08b94051",
   "metadata": {
    "execution": {
     "iopub.execute_input": "2024-08-15T15:00:58.657580Z",
     "iopub.status.busy": "2024-08-15T15:00:58.656863Z",
     "iopub.status.idle": "2024-08-15T15:00:58.666359Z",
     "shell.execute_reply": "2024-08-15T15:00:58.665339Z"
    },
    "papermill": {
     "duration": 0.033475,
     "end_time": "2024-08-15T15:00:58.668735",
     "exception": false,
     "start_time": "2024-08-15T15:00:58.635260",
     "status": "completed"
    },
    "tags": []
   },
   "outputs": [],
   "source": [
    "train['Age_category'] = train['Age_category'].replace({'senior':1,'children': 2, 'adult':3})\n",
    "test['Age_category'] = test['Age_category'].replace({'senior':1,'children': 2, 'adult': 3})"
   ]
  },
  {
   "cell_type": "code",
   "execution_count": 31,
   "id": "b945c4a1",
   "metadata": {
    "execution": {
     "iopub.execute_input": "2024-08-15T15:00:58.711519Z",
     "iopub.status.busy": "2024-08-15T15:00:58.711115Z",
     "iopub.status.idle": "2024-08-15T15:00:58.720378Z",
     "shell.execute_reply": "2024-08-15T15:00:58.719351Z"
    },
    "papermill": {
     "duration": 0.033624,
     "end_time": "2024-08-15T15:00:58.722770",
     "exception": false,
     "start_time": "2024-08-15T15:00:58.689146",
     "status": "completed"
    },
    "tags": []
   },
   "outputs": [
    {
     "data": {
      "text/plain": [
       "Title\n",
       "Mr            517\n",
       "Miss          185\n",
       "Mrs           126\n",
       "Master         40\n",
       "Rare Title     23\n",
       "Name: count, dtype: int64"
      ]
     },
     "execution_count": 31,
     "metadata": {},
     "output_type": "execute_result"
    }
   ],
   "source": [
    "train['Title'].value_counts()"
   ]
  },
  {
   "cell_type": "code",
   "execution_count": 32,
   "id": "beb7c39b",
   "metadata": {
    "execution": {
     "iopub.execute_input": "2024-08-15T15:00:58.766949Z",
     "iopub.status.busy": "2024-08-15T15:00:58.766022Z",
     "iopub.status.idle": "2024-08-15T15:00:58.776744Z",
     "shell.execute_reply": "2024-08-15T15:00:58.775822Z"
    },
    "papermill": {
     "duration": 0.035126,
     "end_time": "2024-08-15T15:00:58.778975",
     "exception": false,
     "start_time": "2024-08-15T15:00:58.743849",
     "status": "completed"
    },
    "tags": []
   },
   "outputs": [],
   "source": [
    "train['Title'] = train['Title'].replace({'Rare Title':0,'Mr':1,'Miss': 2, 'Mrs':3,'Master':4})\n",
    "test['Title'] = test['Title'].replace({'Rare Title':0,'Mr':1,'Miss': 2, 'Mrs': 3,'Master':4})"
   ]
  },
  {
   "cell_type": "code",
   "execution_count": 33,
   "id": "b993712b",
   "metadata": {
    "execution": {
     "iopub.execute_input": "2024-08-15T15:00:58.822316Z",
     "iopub.status.busy": "2024-08-15T15:00:58.821413Z",
     "iopub.status.idle": "2024-08-15T15:00:58.839270Z",
     "shell.execute_reply": "2024-08-15T15:00:58.838349Z"
    },
    "papermill": {
     "duration": 0.042109,
     "end_time": "2024-08-15T15:00:58.841708",
     "exception": false,
     "start_time": "2024-08-15T15:00:58.799599",
     "status": "completed"
    },
    "tags": []
   },
   "outputs": [
    {
     "data": {
      "text/html": [
       "<div>\n",
       "<style scoped>\n",
       "    .dataframe tbody tr th:only-of-type {\n",
       "        vertical-align: middle;\n",
       "    }\n",
       "\n",
       "    .dataframe tbody tr th {\n",
       "        vertical-align: top;\n",
       "    }\n",
       "\n",
       "    .dataframe thead th {\n",
       "        text-align: right;\n",
       "    }\n",
       "</style>\n",
       "<table border=\"1\" class=\"dataframe\">\n",
       "  <thead>\n",
       "    <tr style=\"text-align: right;\">\n",
       "      <th></th>\n",
       "      <th>PassengerId</th>\n",
       "      <th>Pclass</th>\n",
       "      <th>Name</th>\n",
       "      <th>Sex</th>\n",
       "      <th>Age</th>\n",
       "      <th>SibSp</th>\n",
       "      <th>Parch</th>\n",
       "      <th>Ticket</th>\n",
       "      <th>Fare</th>\n",
       "      <th>Cabin</th>\n",
       "      <th>Embarked</th>\n",
       "      <th>TNlen</th>\n",
       "      <th>LeadingDigit</th>\n",
       "      <th>Age_category</th>\n",
       "      <th>Title</th>\n",
       "    </tr>\n",
       "  </thead>\n",
       "  <tbody>\n",
       "    <tr>\n",
       "      <th>0</th>\n",
       "      <td>892</td>\n",
       "      <td>3</td>\n",
       "      <td>Kelly, Mr. James</td>\n",
       "      <td>1</td>\n",
       "      <td>34.5</td>\n",
       "      <td>0</td>\n",
       "      <td>0</td>\n",
       "      <td>330911</td>\n",
       "      <td>2.057860</td>\n",
       "      <td>2.0</td>\n",
       "      <td>0</td>\n",
       "      <td>6</td>\n",
       "      <td>3</td>\n",
       "      <td>3</td>\n",
       "      <td>1</td>\n",
       "    </tr>\n",
       "    <tr>\n",
       "      <th>1</th>\n",
       "      <td>893</td>\n",
       "      <td>3</td>\n",
       "      <td>Wilkes, Mrs. James (Ellen Needs)</td>\n",
       "      <td>2</td>\n",
       "      <td>47.0</td>\n",
       "      <td>1</td>\n",
       "      <td>0</td>\n",
       "      <td>363272</td>\n",
       "      <td>1.945910</td>\n",
       "      <td>2.0</td>\n",
       "      <td>1</td>\n",
       "      <td>6</td>\n",
       "      <td>3</td>\n",
       "      <td>3</td>\n",
       "      <td>3</td>\n",
       "    </tr>\n",
       "    <tr>\n",
       "      <th>2</th>\n",
       "      <td>894</td>\n",
       "      <td>2</td>\n",
       "      <td>Myles, Mr. Thomas Francis</td>\n",
       "      <td>1</td>\n",
       "      <td>62.0</td>\n",
       "      <td>0</td>\n",
       "      <td>0</td>\n",
       "      <td>240276</td>\n",
       "      <td>2.270836</td>\n",
       "      <td>2.0</td>\n",
       "      <td>0</td>\n",
       "      <td>6</td>\n",
       "      <td>2</td>\n",
       "      <td>1</td>\n",
       "      <td>1</td>\n",
       "    </tr>\n",
       "    <tr>\n",
       "      <th>3</th>\n",
       "      <td>895</td>\n",
       "      <td>3</td>\n",
       "      <td>Wirz, Mr. Albert</td>\n",
       "      <td>1</td>\n",
       "      <td>27.0</td>\n",
       "      <td>0</td>\n",
       "      <td>0</td>\n",
       "      <td>315154</td>\n",
       "      <td>2.159003</td>\n",
       "      <td>2.0</td>\n",
       "      <td>1</td>\n",
       "      <td>6</td>\n",
       "      <td>3</td>\n",
       "      <td>3</td>\n",
       "      <td>1</td>\n",
       "    </tr>\n",
       "    <tr>\n",
       "      <th>4</th>\n",
       "      <td>896</td>\n",
       "      <td>3</td>\n",
       "      <td>Hirvonen, Mrs. Alexander (Helga E Lindqvist)</td>\n",
       "      <td>2</td>\n",
       "      <td>22.0</td>\n",
       "      <td>1</td>\n",
       "      <td>1</td>\n",
       "      <td>3101298</td>\n",
       "      <td>2.508582</td>\n",
       "      <td>2.0</td>\n",
       "      <td>1</td>\n",
       "      <td>7</td>\n",
       "      <td>3</td>\n",
       "      <td>3</td>\n",
       "      <td>3</td>\n",
       "    </tr>\n",
       "  </tbody>\n",
       "</table>\n",
       "</div>"
      ],
      "text/plain": [
       "   PassengerId  Pclass                                          Name  Sex  \\\n",
       "0          892       3                              Kelly, Mr. James    1   \n",
       "1          893       3              Wilkes, Mrs. James (Ellen Needs)    2   \n",
       "2          894       2                     Myles, Mr. Thomas Francis    1   \n",
       "3          895       3                              Wirz, Mr. Albert    1   \n",
       "4          896       3  Hirvonen, Mrs. Alexander (Helga E Lindqvist)    2   \n",
       "\n",
       "    Age  SibSp  Parch   Ticket      Fare  Cabin  Embarked  TNlen  \\\n",
       "0  34.5      0      0   330911  2.057860    2.0         0      6   \n",
       "1  47.0      1      0   363272  1.945910    2.0         1      6   \n",
       "2  62.0      0      0   240276  2.270836    2.0         0      6   \n",
       "3  27.0      0      0   315154  2.159003    2.0         1      6   \n",
       "4  22.0      1      1  3101298  2.508582    2.0         1      7   \n",
       "\n",
       "   LeadingDigit  Age_category  Title  \n",
       "0             3             3      1  \n",
       "1             3             3      3  \n",
       "2             2             1      1  \n",
       "3             3             3      1  \n",
       "4             3             3      3  "
      ]
     },
     "execution_count": 33,
     "metadata": {},
     "output_type": "execute_result"
    }
   ],
   "source": [
    "test.head()"
   ]
  },
  {
   "cell_type": "code",
   "execution_count": 34,
   "id": "134927a9",
   "metadata": {
    "execution": {
     "iopub.execute_input": "2024-08-15T15:00:58.885164Z",
     "iopub.status.busy": "2024-08-15T15:00:58.884490Z",
     "iopub.status.idle": "2024-08-15T15:00:58.902826Z",
     "shell.execute_reply": "2024-08-15T15:00:58.901808Z"
    },
    "papermill": {
     "duration": 0.04348,
     "end_time": "2024-08-15T15:00:58.905851",
     "exception": false,
     "start_time": "2024-08-15T15:00:58.862371",
     "status": "completed"
    },
    "tags": []
   },
   "outputs": [
    {
     "data": {
      "text/html": [
       "<div>\n",
       "<style scoped>\n",
       "    .dataframe tbody tr th:only-of-type {\n",
       "        vertical-align: middle;\n",
       "    }\n",
       "\n",
       "    .dataframe tbody tr th {\n",
       "        vertical-align: top;\n",
       "    }\n",
       "\n",
       "    .dataframe thead th {\n",
       "        text-align: right;\n",
       "    }\n",
       "</style>\n",
       "<table border=\"1\" class=\"dataframe\">\n",
       "  <thead>\n",
       "    <tr style=\"text-align: right;\">\n",
       "      <th></th>\n",
       "      <th>PassengerId</th>\n",
       "      <th>Survived</th>\n",
       "      <th>Pclass</th>\n",
       "      <th>Name</th>\n",
       "      <th>Sex</th>\n",
       "      <th>Age</th>\n",
       "      <th>SibSp</th>\n",
       "      <th>Parch</th>\n",
       "      <th>Ticket</th>\n",
       "      <th>Fare</th>\n",
       "      <th>Cabin</th>\n",
       "      <th>Embarked</th>\n",
       "      <th>TNlen</th>\n",
       "      <th>LeadingDigit</th>\n",
       "      <th>Age_category</th>\n",
       "      <th>Title</th>\n",
       "    </tr>\n",
       "  </thead>\n",
       "  <tbody>\n",
       "    <tr>\n",
       "      <th>0</th>\n",
       "      <td>1</td>\n",
       "      <td>0</td>\n",
       "      <td>3</td>\n",
       "      <td>Braund, Mr. Owen Harris</td>\n",
       "      <td>1</td>\n",
       "      <td>22.0</td>\n",
       "      <td>1</td>\n",
       "      <td>0</td>\n",
       "      <td>a5 21171</td>\n",
       "      <td>1.981001</td>\n",
       "      <td>2.0</td>\n",
       "      <td>1</td>\n",
       "      <td>5</td>\n",
       "      <td>2</td>\n",
       "      <td>3</td>\n",
       "      <td>1</td>\n",
       "    </tr>\n",
       "    <tr>\n",
       "      <th>1</th>\n",
       "      <td>2</td>\n",
       "      <td>1</td>\n",
       "      <td>1</td>\n",
       "      <td>Cumings, Mrs. John Bradley (Florence Briggs Th...</td>\n",
       "      <td>2</td>\n",
       "      <td>38.0</td>\n",
       "      <td>1</td>\n",
       "      <td>0</td>\n",
       "      <td>pc 17599</td>\n",
       "      <td>4.266662</td>\n",
       "      <td>2.0</td>\n",
       "      <td>2</td>\n",
       "      <td>5</td>\n",
       "      <td>1</td>\n",
       "      <td>3</td>\n",
       "      <td>3</td>\n",
       "    </tr>\n",
       "    <tr>\n",
       "      <th>2</th>\n",
       "      <td>3</td>\n",
       "      <td>1</td>\n",
       "      <td>3</td>\n",
       "      <td>Heikkinen, Miss. Laina</td>\n",
       "      <td>2</td>\n",
       "      <td>26.0</td>\n",
       "      <td>0</td>\n",
       "      <td>0</td>\n",
       "      <td>stono2 3101282</td>\n",
       "      <td>2.070022</td>\n",
       "      <td>2.0</td>\n",
       "      <td>1</td>\n",
       "      <td>7</td>\n",
       "      <td>3</td>\n",
       "      <td>3</td>\n",
       "      <td>2</td>\n",
       "    </tr>\n",
       "    <tr>\n",
       "      <th>3</th>\n",
       "      <td>4</td>\n",
       "      <td>1</td>\n",
       "      <td>1</td>\n",
       "      <td>Futrelle, Mrs. Jacques Heath (Lily May Peel)</td>\n",
       "      <td>2</td>\n",
       "      <td>35.0</td>\n",
       "      <td>1</td>\n",
       "      <td>0</td>\n",
       "      <td>113803</td>\n",
       "      <td>3.972177</td>\n",
       "      <td>2.0</td>\n",
       "      <td>1</td>\n",
       "      <td>6</td>\n",
       "      <td>1</td>\n",
       "      <td>3</td>\n",
       "      <td>3</td>\n",
       "    </tr>\n",
       "    <tr>\n",
       "      <th>4</th>\n",
       "      <td>5</td>\n",
       "      <td>0</td>\n",
       "      <td>3</td>\n",
       "      <td>Allen, Mr. William Henry</td>\n",
       "      <td>1</td>\n",
       "      <td>35.0</td>\n",
       "      <td>0</td>\n",
       "      <td>0</td>\n",
       "      <td>373450</td>\n",
       "      <td>2.085672</td>\n",
       "      <td>2.0</td>\n",
       "      <td>1</td>\n",
       "      <td>6</td>\n",
       "      <td>3</td>\n",
       "      <td>3</td>\n",
       "      <td>1</td>\n",
       "    </tr>\n",
       "  </tbody>\n",
       "</table>\n",
       "</div>"
      ],
      "text/plain": [
       "   PassengerId  Survived  Pclass  \\\n",
       "0            1         0       3   \n",
       "1            2         1       1   \n",
       "2            3         1       3   \n",
       "3            4         1       1   \n",
       "4            5         0       3   \n",
       "\n",
       "                                                Name  Sex   Age  SibSp  Parch  \\\n",
       "0                            Braund, Mr. Owen Harris    1  22.0      1      0   \n",
       "1  Cumings, Mrs. John Bradley (Florence Briggs Th...    2  38.0      1      0   \n",
       "2                             Heikkinen, Miss. Laina    2  26.0      0      0   \n",
       "3       Futrelle, Mrs. Jacques Heath (Lily May Peel)    2  35.0      1      0   \n",
       "4                           Allen, Mr. William Henry    1  35.0      0      0   \n",
       "\n",
       "           Ticket      Fare  Cabin  Embarked  TNlen  LeadingDigit  \\\n",
       "0        a5 21171  1.981001    2.0         1      5             2   \n",
       "1        pc 17599  4.266662    2.0         2      5             1   \n",
       "2  stono2 3101282  2.070022    2.0         1      7             3   \n",
       "3          113803  3.972177    2.0         1      6             1   \n",
       "4          373450  2.085672    2.0         1      6             3   \n",
       "\n",
       "   Age_category  Title  \n",
       "0             3      1  \n",
       "1             3      3  \n",
       "2             3      2  \n",
       "3             3      3  \n",
       "4             3      1  "
      ]
     },
     "execution_count": 34,
     "metadata": {},
     "output_type": "execute_result"
    }
   ],
   "source": [
    "train.head()"
   ]
  },
  {
   "cell_type": "code",
   "execution_count": 35,
   "id": "10f5e46d",
   "metadata": {
    "execution": {
     "iopub.execute_input": "2024-08-15T15:00:58.950589Z",
     "iopub.status.busy": "2024-08-15T15:00:58.950196Z",
     "iopub.status.idle": "2024-08-15T15:00:58.961671Z",
     "shell.execute_reply": "2024-08-15T15:00:58.960629Z"
    },
    "papermill": {
     "duration": 0.036426,
     "end_time": "2024-08-15T15:00:58.963974",
     "exception": false,
     "start_time": "2024-08-15T15:00:58.927548",
     "status": "completed"
    },
    "tags": []
   },
   "outputs": [
    {
     "data": {
      "text/plain": [
       "Embarked\n",
       "1    644\n",
       "2    170\n",
       "0     77\n",
       "Name: count, dtype: int64"
      ]
     },
     "execution_count": 35,
     "metadata": {},
     "output_type": "execute_result"
    }
   ],
   "source": [
    "train['Embarked'].value_counts()"
   ]
  },
  {
   "cell_type": "code",
   "execution_count": 36,
   "id": "58f78c49",
   "metadata": {
    "execution": {
     "iopub.execute_input": "2024-08-15T15:00:59.009137Z",
     "iopub.status.busy": "2024-08-15T15:00:59.008367Z",
     "iopub.status.idle": "2024-08-15T15:00:59.021697Z",
     "shell.execute_reply": "2024-08-15T15:00:59.020583Z"
    },
    "papermill": {
     "duration": 0.038576,
     "end_time": "2024-08-15T15:00:59.024054",
     "exception": false,
     "start_time": "2024-08-15T15:00:58.985478",
     "status": "completed"
    },
    "tags": []
   },
   "outputs": [
    {
     "data": {
      "text/plain": [
       "(PassengerId     0\n",
       " Survived        0\n",
       " Pclass          0\n",
       " Name            0\n",
       " Sex             0\n",
       " Age             0\n",
       " SibSp           0\n",
       " Parch           0\n",
       " Ticket          0\n",
       " Fare            0\n",
       " Cabin           0\n",
       " Embarked        0\n",
       " TNlen           0\n",
       " LeadingDigit    0\n",
       " Age_category    0\n",
       " Title           0\n",
       " dtype: int64,\n",
       " PassengerId     0\n",
       " Pclass          0\n",
       " Name            0\n",
       " Sex             0\n",
       " Age             0\n",
       " SibSp           0\n",
       " Parch           0\n",
       " Ticket          0\n",
       " Fare            0\n",
       " Cabin           0\n",
       " Embarked        0\n",
       " TNlen           0\n",
       " LeadingDigit    0\n",
       " Age_category    0\n",
       " Title           0\n",
       " dtype: int64)"
      ]
     },
     "execution_count": 36,
     "metadata": {},
     "output_type": "execute_result"
    }
   ],
   "source": [
    "train.isnull().sum() , test.isnull().sum() , \n",
    "#dataset.head()"
   ]
  },
  {
   "cell_type": "code",
   "execution_count": 37,
   "id": "802fafbd",
   "metadata": {
    "execution": {
     "iopub.execute_input": "2024-08-15T15:00:59.070135Z",
     "iopub.status.busy": "2024-08-15T15:00:59.069203Z",
     "iopub.status.idle": "2024-08-15T15:00:59.092663Z",
     "shell.execute_reply": "2024-08-15T15:00:59.091478Z"
    },
    "papermill": {
     "duration": 0.049471,
     "end_time": "2024-08-15T15:00:59.095419",
     "exception": false,
     "start_time": "2024-08-15T15:00:59.045948",
     "status": "completed"
    },
    "tags": []
   },
   "outputs": [],
   "source": [
    "train.to_csv('train_clean.csv', index=False)\n",
    "test.to_csv('test_clean.csv', index=False)"
   ]
  },
  {
   "cell_type": "code",
   "execution_count": 38,
   "id": "d48c3d50",
   "metadata": {
    "execution": {
     "iopub.execute_input": "2024-08-15T15:00:59.141420Z",
     "iopub.status.busy": "2024-08-15T15:00:59.140994Z",
     "iopub.status.idle": "2024-08-15T15:00:59.149532Z",
     "shell.execute_reply": "2024-08-15T15:00:59.148430Z"
    },
    "papermill": {
     "duration": 0.034444,
     "end_time": "2024-08-15T15:00:59.152058",
     "exception": false,
     "start_time": "2024-08-15T15:00:59.117614",
     "status": "completed"
    },
    "tags": []
   },
   "outputs": [],
   "source": [
    "Features = ['Pclass','Sex' , 'Age' , 'SibSp','Parch' ,'Fare','Embarked','Cabin','Title','TNlen','LeadingDigit','Age_category']\n",
    "X = train[Features]\n",
    "\n",
    "Y = train.Survived\n",
    "\n",
    "xtest = test[Features]"
   ]
  },
  {
   "cell_type": "code",
   "execution_count": 39,
   "id": "eac15317",
   "metadata": {
    "execution": {
     "iopub.execute_input": "2024-08-15T15:00:59.198177Z",
     "iopub.status.busy": "2024-08-15T15:00:59.197519Z",
     "iopub.status.idle": "2024-08-15T15:01:20.626281Z",
     "shell.execute_reply": "2024-08-15T15:01:20.624610Z"
    },
    "papermill": {
     "duration": 21.456574,
     "end_time": "2024-08-15T15:01:20.630797",
     "exception": false,
     "start_time": "2024-08-15T15:00:59.174223",
     "status": "completed"
    },
    "tags": []
   },
   "outputs": [],
   "source": [
    "from sklearn.manifold import MDS\n",
    "\n",
    "mds = MDS(n_components=2, random_state=0)\n",
    "X_mds = mds.fit_transform(X)\n",
    "\n"
   ]
  },
  {
   "cell_type": "code",
   "execution_count": 40,
   "id": "eda39d07",
   "metadata": {
    "execution": {
     "iopub.execute_input": "2024-08-15T15:01:20.725953Z",
     "iopub.status.busy": "2024-08-15T15:01:20.725146Z",
     "iopub.status.idle": "2024-08-15T15:01:21.112971Z",
     "shell.execute_reply": "2024-08-15T15:01:21.111763Z"
    },
    "papermill": {
     "duration": 0.437952,
     "end_time": "2024-08-15T15:01:21.115474",
     "exception": false,
     "start_time": "2024-08-15T15:01:20.677522",
     "status": "completed"
    },
    "tags": []
   },
   "outputs": [
    {
     "data": {
      "image/png": "[encoded data removed]",
      "text/plain": [
       "<Figure size 1000x600 with 1 Axes>"
      ]
     },
     "metadata": {},
     "output_type": "display_data"
    }
   ],
   "source": [
    "plt.figure(figsize=(10, 6))\n",
    "\n",
    "colors = {0: 'red', 1: 'blue'}\n",
    "\n",
    "for label in np.unique(Y):\n",
    "    plt.scatter(\n",
    "        X_mds[Y == label, 0], X_mds[Y == label, 1],\n",
    "        label=f'Survived: {label}',\n",
    "        c=colors[label]\n",
    "    )\n",
    "\n",
    "plt.xlabel('MDS Dimension 1')\n",
    "plt.ylabel('MDS Dimension 2')\n",
    "plt.title('MDS Visualization of Dataset')\n",
    "plt.legend()\n",
    "plt.show()"
   ]
  },
  {
   "cell_type": "code",
   "execution_count": 41,
   "id": "446af90f",
   "metadata": {
    "execution": {
     "iopub.execute_input": "2024-08-15T15:01:21.162842Z",
     "iopub.status.busy": "2024-08-15T15:01:21.162440Z",
     "iopub.status.idle": "2024-08-15T15:01:21.187224Z",
     "shell.execute_reply": "2024-08-15T15:01:21.185122Z"
    },
    "papermill": {
     "duration": 0.052813,
     "end_time": "2024-08-15T15:01:21.191219",
     "exception": false,
     "start_time": "2024-08-15T15:01:21.138406",
     "status": "completed"
    },
    "tags": []
   },
   "outputs": [],
   "source": [
    "from sklearn.decomposition import PCA\n",
    "\n",
    "pca = PCA(n_components=2)\n",
    "X_pca = pca.fit_transform(X)\n"
   ]
  },
  {
   "cell_type": "code",
   "execution_count": 42,
   "id": "83a5413e",
   "metadata": {
    "execution": {
     "iopub.execute_input": "2024-08-15T15:01:21.289951Z",
     "iopub.status.busy": "2024-08-15T15:01:21.288619Z",
     "iopub.status.idle": "2024-08-15T15:01:21.669974Z",
     "shell.execute_reply": "2024-08-15T15:01:21.668872Z"
    },
    "papermill": {
     "duration": 0.433774,
     "end_time": "2024-08-15T15:01:21.672606",
     "exception": false,
     "start_time": "2024-08-15T15:01:21.238832",
     "status": "completed"
    },
    "tags": []
   },
   "outputs": [
    {
     "data": {
      "image/png": "[encoded data removed]",
      "text/plain": [
       "<Figure size 1000x600 with 1 Axes>"
      ]
     },
     "metadata": {},
     "output_type": "display_data"
    }
   ],
   "source": [
    "plt.figure(figsize=(10, 6))\n",
    "\n",
    "colors = {0: 'red', 1: 'blue'}\n",
    "\n",
    "for label in np.unique(Y):\n",
    "    plt.scatter(\n",
    "        X_pca[Y == label, 0], X_pca[Y == label, 1],\n",
    "        label=f'Survived: {label}',\n",
    "        c=colors[label]\n",
    "    )\n",
    "\n",
    "plt.xlabel('PCA Dimension 1')\n",
    "plt.ylabel('PCA Dimension 2')\n",
    "plt.title('PCA Visualization of Dataset')\n",
    "plt.legend()\n",
    "plt.show()"
   ]
  },
  {
   "cell_type": "code",
   "execution_count": 43,
   "id": "03622f33",
   "metadata": {
    "execution": {
     "iopub.execute_input": "2024-08-15T15:01:21.723451Z",
     "iopub.status.busy": "2024-08-15T15:01:21.723016Z",
     "iopub.status.idle": "2024-08-15T15:01:26.070272Z",
     "shell.execute_reply": "2024-08-15T15:01:26.069283Z"
    },
    "papermill": {
     "duration": 4.375535,
     "end_time": "2024-08-15T15:01:26.073048",
     "exception": false,
     "start_time": "2024-08-15T15:01:21.697513",
     "status": "completed"
    },
    "tags": []
   },
   "outputs": [],
   "source": [
    "from sklearn.manifold import TSNE\n",
    "\n",
    "tsne = TSNE(n_components=2, random_state=0)\n",
    "X_tsne = tsne.fit_transform(X)"
   ]
  },
  {
   "cell_type": "code",
   "execution_count": 44,
   "id": "7989922b",
   "metadata": {
    "execution": {
     "iopub.execute_input": "2024-08-15T15:01:26.125310Z",
     "iopub.status.busy": "2024-08-15T15:01:26.124517Z",
     "iopub.status.idle": "2024-08-15T15:01:26.463935Z",
     "shell.execute_reply": "2024-08-15T15:01:26.462859Z"
    },
    "papermill": {
     "duration": 0.368281,
     "end_time": "2024-08-15T15:01:26.467063",
     "exception": false,
     "start_time": "2024-08-15T15:01:26.098782",
     "status": "completed"
    },
    "tags": []
   },
   "outputs": [
    {
     "data": {
      "image/png": "[encoded data removed]",
      "text/plain": [
       "<Figure size 1000x600 with 1 Axes>"
      ]
     },
     "metadata": {},
     "output_type": "display_data"
    }
   ],
   "source": [
    "plt.figure(figsize=(10, 6))\n",
    "\n",
    "colors = {0: 'red', 1: 'blue'}\n",
    "\n",
    "for label in np.unique(Y):\n",
    "    plt.scatter(\n",
    "        X_tsne[Y == label, 0], X_tsne[Y == label, 1],\n",
    "        label=f'Survived: {label}',\n",
    "        c=colors[label]\n",
    "    )\n",
    "\n",
    "plt.xlabel('t-SNE Dimension 1')\n",
    "plt.ylabel('t-SNE Dimension 2')\n",
    "plt.title('t-SNE Visualization of Dataset')\n",
    "plt.legend()\n",
    "plt.show()"
   ]
  },
  {
   "cell_type": "code",
   "execution_count": 45,
   "id": "02e82988",
   "metadata": {
    "execution": {
     "iopub.execute_input": "2024-08-15T15:01:26.519602Z",
     "iopub.status.busy": "2024-08-15T15:01:26.518240Z",
     "iopub.status.idle": "2024-08-15T15:01:26.530342Z",
     "shell.execute_reply": "2024-08-15T15:01:26.529277Z"
    },
    "papermill": {
     "duration": 0.040762,
     "end_time": "2024-08-15T15:01:26.532701",
     "exception": false,
     "start_time": "2024-08-15T15:01:26.491939",
     "status": "completed"
    },
    "tags": []
   },
   "outputs": [
    {
     "data": {
      "text/plain": [
       "((623, 12), (623,), (268, 12), (268,))"
      ]
     },
     "execution_count": 45,
     "metadata": {},
     "output_type": "execute_result"
    }
   ],
   "source": [
    "from sklearn.model_selection import train_test_split\n",
    "\n",
    "X_train ,X_test , Y_train , Y_test = train_test_split(X ,Y ,train_size = 0.7 , random_state = 20)\n",
    "\n",
    "X_train.shape , Y_train.shape , X_test.shape , Y_test.shape"
   ]
  },
  {
   "cell_type": "code",
   "execution_count": 46,
   "id": "4a7f249c",
   "metadata": {
    "execution": {
     "iopub.execute_input": "2024-08-15T15:01:26.584553Z",
     "iopub.status.busy": "2024-08-15T15:01:26.584113Z",
     "iopub.status.idle": "2024-08-15T15:01:29.193818Z",
     "shell.execute_reply": "2024-08-15T15:01:29.192747Z"
    },
    "papermill": {
     "duration": 2.638476,
     "end_time": "2024-08-15T15:01:29.196265",
     "exception": false,
     "start_time": "2024-08-15T15:01:26.557789",
     "status": "completed"
    },
    "tags": []
   },
   "outputs": [
    {
     "data": {
      "text/plain": [
       "array([0.80851064, 0.88888889, 0.80851064, 0.79166667, 0.82926829,\n",
       "       0.7804878 , 0.77272727, 0.74418605, 0.79166667, 0.8       ])"
      ]
     },
     "execution_count": 46,
     "metadata": {},
     "output_type": "execute_result"
    }
   ],
   "source": [
    "model = RandomForestClassifier(bootstrap = False,\n",
    "                               min_samples_split = 5, \n",
    "                               n_estimators = 100,\n",
    "                               max_depth = 7,\n",
    "                               max_features = 0.5, \n",
    "                               min_samples_leaf = 4,\n",
    "                               criterion = 'entropy'\n",
    "                              )\n",
    "\n",
    "model.fit(X_train ,Y_train)\n",
    "\n",
    "model_scores = cross_val_score(model, X_train, Y_train, cv=10 , scoring = \"f1\")\n",
    "\n",
    "model_scores"
   ]
  },
  {
   "cell_type": "code",
   "execution_count": 47,
   "id": "65511f51",
   "metadata": {
    "execution": {
     "iopub.execute_input": "2024-08-15T15:01:29.248212Z",
     "iopub.status.busy": "2024-08-15T15:01:29.247832Z",
     "iopub.status.idle": "2024-08-15T15:01:29.270863Z",
     "shell.execute_reply": "2024-08-15T15:01:29.269873Z"
    },
    "papermill": {
     "duration": 0.051642,
     "end_time": "2024-08-15T15:01:29.273183",
     "exception": false,
     "start_time": "2024-08-15T15:01:29.221541",
     "status": "completed"
    },
    "tags": []
   },
   "outputs": [
    {
     "data": {
      "text/plain": [
       "0.7272727272727272"
      ]
     },
     "execution_count": 47,
     "metadata": {},
     "output_type": "execute_result"
    }
   ],
   "source": [
    "y_pre_test = model.predict(X_test)\n",
    "\n",
    "accuracy = f1_score(Y_test, y_pre_test)\n",
    "\n",
    "accuracy"
   ]
  },
  {
   "cell_type": "code",
   "execution_count": 48,
   "id": "14244a17",
   "metadata": {
    "execution": {
     "iopub.execute_input": "2024-08-15T15:01:29.326103Z",
     "iopub.status.busy": "2024-08-15T15:01:29.325716Z",
     "iopub.status.idle": "2024-08-15T15:01:29.330226Z",
     "shell.execute_reply": "2024-08-15T15:01:29.329208Z"
    },
    "papermill": {
     "duration": 0.034084,
     "end_time": "2024-08-15T15:01:29.332677",
     "exception": false,
     "start_time": "2024-08-15T15:01:29.298593",
     "status": "completed"
    },
    "tags": []
   },
   "outputs": [],
   "source": [
    "feature_names = X.columns"
   ]
  },
  {
   "cell_type": "code",
   "execution_count": 49,
   "id": "62a97931",
   "metadata": {
    "execution": {
     "iopub.execute_input": "2024-08-15T15:01:29.387191Z",
     "iopub.status.busy": "2024-08-15T15:01:29.386267Z",
     "iopub.status.idle": "2024-08-15T15:01:29.400314Z",
     "shell.execute_reply": "2024-08-15T15:01:29.399344Z"
    },
    "papermill": {
     "duration": 0.044435,
     "end_time": "2024-08-15T15:01:29.402544",
     "exception": false,
     "start_time": "2024-08-15T15:01:29.358109",
     "status": "completed"
    },
    "tags": []
   },
   "outputs": [],
   "source": [
    "importance = model.feature_importances_"
   ]
  },
  {
   "cell_type": "code",
   "execution_count": 50,
   "id": "165d524f",
   "metadata": {
    "execution": {
     "iopub.execute_input": "2024-08-15T15:01:29.453661Z",
     "iopub.status.busy": "2024-08-15T15:01:29.453271Z",
     "iopub.status.idle": "2024-08-15T15:01:29.459215Z",
     "shell.execute_reply": "2024-08-15T15:01:29.458190Z"
    },
    "papermill": {
     "duration": 0.03419,
     "end_time": "2024-08-15T15:01:29.461656",
     "exception": false,
     "start_time": "2024-08-15T15:01:29.427466",
     "status": "completed"
    },
    "tags": []
   },
   "outputs": [
    {
     "name": "stdout",
     "output_type": "stream",
     "text": [
      "Feature importance based on RandomForestClassifier:\n",
      "Pclass: 0.13605618088880153\n",
      "Sex: 0.12868531211519083\n",
      "Age: 0.09145908131606474\n",
      "SibSp: 0.031558111587296524\n",
      "Parch: 0.012622642271221408\n",
      "Fare: 0.1496665193958123\n",
      "Embarked: 0.019397446447919183\n",
      "Cabin: 0.012089902467636957\n",
      "Title: 0.3038173846429838\n",
      "TNlen: 0.03067825461201335\n",
      "LeadingDigit: 0.07819480808768067\n",
      "Age_category: 0.005774356167378658\n"
     ]
    }
   ],
   "source": [
    "print(\"Feature importance based on RandomForestClassifier:\")\n",
    "for feature, score in zip(feature_names, importance):\n",
    "    print(f'{feature}: {score}')"
   ]
  },
  {
   "cell_type": "code",
   "execution_count": 51,
   "id": "a1ebf6b0",
   "metadata": {
    "execution": {
     "iopub.execute_input": "2024-08-15T15:01:29.513579Z",
     "iopub.status.busy": "2024-08-15T15:01:29.513059Z",
     "iopub.status.idle": "2024-08-15T15:01:29.795099Z",
     "shell.execute_reply": "2024-08-15T15:01:29.794025Z"
    },
    "papermill": {
     "duration": 0.310717,
     "end_time": "2024-08-15T15:01:29.797407",
     "exception": false,
     "start_time": "2024-08-15T15:01:29.486690",
     "status": "completed"
    },
    "tags": []
   },
   "outputs": [
    {
     "data": {
      "image/png": "[encoded data removed]",
      "text/plain": [
       "<Figure size 1000x600 with 1 Axes>"
      ]
     },
     "metadata": {},
     "output_type": "display_data"
    }
   ],
   "source": [
    "indices = np.argsort(importance)[::-1]\n",
    "plt.figure(figsize=(10, 6))\n",
    "plt.title(\"Feature Importance\")\n",
    "plt.bar(range(X.shape[1]), importance[indices], align=\"center\")\n",
    "plt.xticks(range(X.shape[1]), [feature_names[i] for i in indices], rotation=45, ha='right')\n",
    "plt.xlabel(\"Features\")\n",
    "plt.ylabel(\"Importance Score\")\n",
    "plt.show()"
   ]
  },
  {
   "cell_type": "code",
   "execution_count": 52,
   "id": "5d6910ff",
   "metadata": {
    "execution": {
     "iopub.execute_input": "2024-08-15T15:01:29.851491Z",
     "iopub.status.busy": "2024-08-15T15:01:29.850788Z",
     "iopub.status.idle": "2024-08-15T15:01:29.867603Z",
     "shell.execute_reply": "2024-08-15T15:01:29.866620Z"
    },
    "papermill": {
     "duration": 0.046358,
     "end_time": "2024-08-15T15:01:29.869839",
     "exception": false,
     "start_time": "2024-08-15T15:01:29.823481",
     "status": "completed"
    },
    "tags": []
   },
   "outputs": [
    {
     "data": {
      "text/html": [
       "<div>\n",
       "<style scoped>\n",
       "    .dataframe tbody tr th:only-of-type {\n",
       "        vertical-align: middle;\n",
       "    }\n",
       "\n",
       "    .dataframe tbody tr th {\n",
       "        vertical-align: top;\n",
       "    }\n",
       "\n",
       "    .dataframe thead th {\n",
       "        text-align: right;\n",
       "    }\n",
       "</style>\n",
       "<table border=\"1\" class=\"dataframe\">\n",
       "  <thead>\n",
       "    <tr style=\"text-align: right;\">\n",
       "      <th></th>\n",
       "      <th>Pclass</th>\n",
       "      <th>Sex</th>\n",
       "      <th>Age</th>\n",
       "      <th>SibSp</th>\n",
       "      <th>Parch</th>\n",
       "      <th>Fare</th>\n",
       "      <th>Embarked</th>\n",
       "      <th>Cabin</th>\n",
       "      <th>Title</th>\n",
       "      <th>TNlen</th>\n",
       "      <th>LeadingDigit</th>\n",
       "      <th>Age_category</th>\n",
       "    </tr>\n",
       "  </thead>\n",
       "  <tbody>\n",
       "    <tr>\n",
       "      <th>0</th>\n",
       "      <td>3</td>\n",
       "      <td>1</td>\n",
       "      <td>22.0</td>\n",
       "      <td>1</td>\n",
       "      <td>0</td>\n",
       "      <td>1.981001</td>\n",
       "      <td>1</td>\n",
       "      <td>2.0</td>\n",
       "      <td>1</td>\n",
       "      <td>5</td>\n",
       "      <td>2</td>\n",
       "      <td>3</td>\n",
       "    </tr>\n",
       "    <tr>\n",
       "      <th>1</th>\n",
       "      <td>1</td>\n",
       "      <td>2</td>\n",
       "      <td>38.0</td>\n",
       "      <td>1</td>\n",
       "      <td>0</td>\n",
       "      <td>4.266662</td>\n",
       "      <td>2</td>\n",
       "      <td>2.0</td>\n",
       "      <td>3</td>\n",
       "      <td>5</td>\n",
       "      <td>1</td>\n",
       "      <td>3</td>\n",
       "    </tr>\n",
       "    <tr>\n",
       "      <th>2</th>\n",
       "      <td>3</td>\n",
       "      <td>2</td>\n",
       "      <td>26.0</td>\n",
       "      <td>0</td>\n",
       "      <td>0</td>\n",
       "      <td>2.070022</td>\n",
       "      <td>1</td>\n",
       "      <td>2.0</td>\n",
       "      <td>2</td>\n",
       "      <td>7</td>\n",
       "      <td>3</td>\n",
       "      <td>3</td>\n",
       "    </tr>\n",
       "    <tr>\n",
       "      <th>3</th>\n",
       "      <td>1</td>\n",
       "      <td>2</td>\n",
       "      <td>35.0</td>\n",
       "      <td>1</td>\n",
       "      <td>0</td>\n",
       "      <td>3.972177</td>\n",
       "      <td>1</td>\n",
       "      <td>2.0</td>\n",
       "      <td>3</td>\n",
       "      <td>6</td>\n",
       "      <td>1</td>\n",
       "      <td>3</td>\n",
       "    </tr>\n",
       "    <tr>\n",
       "      <th>4</th>\n",
       "      <td>3</td>\n",
       "      <td>1</td>\n",
       "      <td>35.0</td>\n",
       "      <td>0</td>\n",
       "      <td>0</td>\n",
       "      <td>2.085672</td>\n",
       "      <td>1</td>\n",
       "      <td>2.0</td>\n",
       "      <td>1</td>\n",
       "      <td>6</td>\n",
       "      <td>3</td>\n",
       "      <td>3</td>\n",
       "    </tr>\n",
       "  </tbody>\n",
       "</table>\n",
       "</div>"
      ],
      "text/plain": [
       "   Pclass  Sex   Age  SibSp  Parch      Fare  Embarked  Cabin  Title  TNlen  \\\n",
       "0       3    1  22.0      1      0  1.981001         1    2.0      1      5   \n",
       "1       1    2  38.0      1      0  4.266662         2    2.0      3      5   \n",
       "2       3    2  26.0      0      0  2.070022         1    2.0      2      7   \n",
       "3       1    2  35.0      1      0  3.972177         1    2.0      3      6   \n",
       "4       3    1  35.0      0      0  2.085672         1    2.0      1      6   \n",
       "\n",
       "   LeadingDigit  Age_category  \n",
       "0             2             3  \n",
       "1             1             3  \n",
       "2             3             3  \n",
       "3             1             3  \n",
       "4             3             3  "
      ]
     },
     "execution_count": 52,
     "metadata": {},
     "output_type": "execute_result"
    }
   ],
   "source": [
    "X.head()"
   ]
  },
  {
   "cell_type": "code",
   "execution_count": 53,
   "id": "233deb80",
   "metadata": {
    "execution": {
     "iopub.execute_input": "2024-08-15T15:01:29.924592Z",
     "iopub.status.busy": "2024-08-15T15:01:29.923915Z",
     "iopub.status.idle": "2024-08-15T15:01:29.943634Z",
     "shell.execute_reply": "2024-08-15T15:01:29.942552Z"
    },
    "papermill": {
     "duration": 0.050831,
     "end_time": "2024-08-15T15:01:29.947007",
     "exception": false,
     "start_time": "2024-08-15T15:01:29.896176",
     "status": "completed"
    },
    "tags": []
   },
   "outputs": [],
   "source": [
    "y_prediction = model.predict(xtest)"
   ]
  },
  {
   "cell_type": "code",
   "execution_count": 54,
   "id": "a67077d3",
   "metadata": {
    "execution": {
     "iopub.execute_input": "2024-08-15T15:01:30.002190Z",
     "iopub.status.busy": "2024-08-15T15:01:30.001265Z",
     "iopub.status.idle": "2024-08-15T15:01:30.010082Z",
     "shell.execute_reply": "2024-08-15T15:01:30.009085Z"
    },
    "papermill": {
     "duration": 0.038919,
     "end_time": "2024-08-15T15:01:30.012494",
     "exception": false,
     "start_time": "2024-08-15T15:01:29.973575",
     "status": "completed"
    },
    "tags": []
   },
   "outputs": [],
   "source": [
    "results = pd.Series(y_prediction,name=\"Survived\")\n",
    "submission = pd.concat([pd.Series(range(892,1310),name = \"PassengerID\"),results],axis = 1)\n",
    "submission.to_csv(\"submission.csv\", index=False)"
   ]
  },
  {
   "cell_type": "code",
   "execution_count": 55,
   "id": "b93cbb54",
   "metadata": {
    "execution": {
     "iopub.execute_input": "2024-08-15T15:01:30.068554Z",
     "iopub.status.busy": "2024-08-15T15:01:30.067604Z",
     "iopub.status.idle": "2024-08-15T15:01:30.079055Z",
     "shell.execute_reply": "2024-08-15T15:01:30.078006Z"
    },
    "papermill": {
     "duration": 0.041521,
     "end_time": "2024-08-15T15:01:30.081373",
     "exception": false,
     "start_time": "2024-08-15T15:01:30.039852",
     "status": "completed"
    },
    "tags": []
   },
   "outputs": [
    {
     "data": {
      "text/html": [
       "<div>\n",
       "<style scoped>\n",
       "    .dataframe tbody tr th:only-of-type {\n",
       "        vertical-align: middle;\n",
       "    }\n",
       "\n",
       "    .dataframe tbody tr th {\n",
       "        vertical-align: top;\n",
       "    }\n",
       "\n",
       "    .dataframe thead th {\n",
       "        text-align: right;\n",
       "    }\n",
       "</style>\n",
       "<table border=\"1\" class=\"dataframe\">\n",
       "  <thead>\n",
       "    <tr style=\"text-align: right;\">\n",
       "      <th></th>\n",
       "      <th>PassengerID</th>\n",
       "      <th>Survived</th>\n",
       "    </tr>\n",
       "  </thead>\n",
       "  <tbody>\n",
       "    <tr>\n",
       "      <th>0</th>\n",
       "      <td>892</td>\n",
       "      <td>0</td>\n",
       "    </tr>\n",
       "    <tr>\n",
       "      <th>1</th>\n",
       "      <td>893</td>\n",
       "      <td>0</td>\n",
       "    </tr>\n",
       "    <tr>\n",
       "      <th>2</th>\n",
       "      <td>894</td>\n",
       "      <td>0</td>\n",
       "    </tr>\n",
       "    <tr>\n",
       "      <th>3</th>\n",
       "      <td>895</td>\n",
       "      <td>0</td>\n",
       "    </tr>\n",
       "    <tr>\n",
       "      <th>4</th>\n",
       "      <td>896</td>\n",
       "      <td>1</td>\n",
       "    </tr>\n",
       "    <tr>\n",
       "      <th>...</th>\n",
       "      <td>...</td>\n",
       "      <td>...</td>\n",
       "    </tr>\n",
       "    <tr>\n",
       "      <th>413</th>\n",
       "      <td>1305</td>\n",
       "      <td>0</td>\n",
       "    </tr>\n",
       "    <tr>\n",
       "      <th>414</th>\n",
       "      <td>1306</td>\n",
       "      <td>1</td>\n",
       "    </tr>\n",
       "    <tr>\n",
       "      <th>415</th>\n",
       "      <td>1307</td>\n",
       "      <td>0</td>\n",
       "    </tr>\n",
       "    <tr>\n",
       "      <th>416</th>\n",
       "      <td>1308</td>\n",
       "      <td>0</td>\n",
       "    </tr>\n",
       "    <tr>\n",
       "      <th>417</th>\n",
       "      <td>1309</td>\n",
       "      <td>1</td>\n",
       "    </tr>\n",
       "  </tbody>\n",
       "</table>\n",
       "<p>418 rows × 2 columns</p>\n",
       "</div>"
      ],
      "text/plain": [
       "     PassengerID  Survived\n",
       "0            892         0\n",
       "1            893         0\n",
       "2            894         0\n",
       "3            895         0\n",
       "4            896         1\n",
       "..           ...       ...\n",
       "413         1305         0\n",
       "414         1306         1\n",
       "415         1307         0\n",
       "416         1308         0\n",
       "417         1309         1\n",
       "\n",
       "[418 rows x 2 columns]"
      ]
     },
     "execution_count": 55,
     "metadata": {},
     "output_type": "execute_result"
    }
   ],
   "source": [
    "submission"
   ]
  },
  {
   "cell_type": "code",
   "execution_count": null,
   "id": "e781be83",
   "metadata": {
    "papermill": {
     "duration": 0.027151,
     "end_time": "2024-08-15T15:01:30.135649",
     "exception": false,
     "start_time": "2024-08-15T15:01:30.108498",
     "status": "completed"
    },
    "tags": []
   },
   "outputs": [],
   "source": []
  }
 ],
 "metadata": {
  "kaggle": {
   "accelerator": "none",
   "dataSources": [
    {
     "datasetId": 1264723,
     "sourceId": 2361242,
     "sourceType": "datasetVersion"
    }
   ],
   "dockerImageVersionId": 30746,
   "isGpuEnabled": false,
   "isInternetEnabled": false,
   "language": "python",
   "sourceType": "notebook"
  },
  "kernelspec": {
   "display_name": "Python 3",
   "language": "python",
   "name": "python3"
  },
  "language_info": {
   "codemirror_mode": {
    "name": "ipython",
    "version": 3
   },
   "file_extension": ".py",
   "mimetype": "text/x-python",
   "name": "python",
   "nbconvert_exporter": "python",
   "pygments_lexer": "ipython3",
   "version": "3.10.13"
  },
  "papermill": {
   "default_parameters": {},
   "duration": 40.925748,
   "end_time": "2024-08-15T15:01:30.785036",
   "environment_variables": {},
   "exception": null,
   "input_path": "__notebook__.ipynb",
   "output_path": "__notebook__.ipynb",
   "parameters": {},
   "start_time": "2024-08-15T15:00:49.859288",
   "version": "2.5.0"
  }
 },
 "nbformat": 4,
 "nbformat_minor": 5
}
